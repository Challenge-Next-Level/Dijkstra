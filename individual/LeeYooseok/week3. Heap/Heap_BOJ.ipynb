{
 "cells": [
  {
   "cell_type": "markdown",
   "metadata": {},
   "source": [
    "### 14235, 크리스마스 선물\n",
    "\n",
    "**문제**\n",
    "- 크리스마스에는 산타가 착한 아이들에게 선물을 나눠준다. 올해도 산타는 선물을 나눠주기 위해 많은 노력을 하고 있는데, 전세계를 돌아댕기며 착한 아이들에게 선물을 나눠줄 것이다. 하지만 산타의 썰매는 그렇게 크지 않기 때문에, 세계 곳곳에 거점들을 세워 그 곳을 방문하며 선물을 충전해 나갈 것이다. 또한, 착한 아이들을 만날 때마다 자신이 들고있는 가장 가치가 큰 선물 하나를 선물해 줄 것이다.\n",
    "\n",
    "- 이제 산타가 선물을 나눠줄 것이다. 차례대로 방문한 아이들과 거점지의 정보들이 주어졌을 때, 아이들이 준 선물들의 가치들을 출력하시오. 만약 아이들에게 줄 선물이 없다면 -1을 출력하시오.\n",
    "\n",
    "**입력**\n",
    "- 첫 번째 줄에서는 아이들과 거점지를 방문한 횟수 n이 주어진다.(1≤n≤5,000)\n",
    "\n",
    "- 다음 n줄에는 a가 들어오고, 그 다음 a개의 숫자가 들어온다. 이는 거점지에서 a개의 선물을 충전하는 것이고, 그 숫자들이 선물의 가치이다. 만약 a가 0이라면 거점지가 아닌 아이들을 만난 것이다. 선물의 가치는 100,000보다 작은 양의 정수이다.(1≤a≤100)\n",
    "\n",
    "**출력**\n",
    "- a가 0일 때마다, 아이들에게 준 선물의 가치를 출력하시오. 만약 줄 선물이 없다면 -1을 출력하라. 적어도 하나의 출력이 있음을 보장한다."
   ]
  },
  {
   "cell_type": "markdown",
   "metadata": {},
   "source": [
    "**아이디어**\n",
    "- 선물들을 힙에 담는다."
   ]
  },
  {
   "cell_type": "code",
   "execution_count": 4,
   "metadata": {},
   "outputs": [
    {
     "name": "stdout",
     "output_type": "stream",
     "text": [
      "5\n",
      "0\n",
      "-1\n",
      "2 3 2\n",
      "0\n",
      "3\n",
      "0\n",
      "2\n",
      "0\n",
      "-1\n"
     ]
    }
   ],
   "source": [
    "import heapq\n",
    "\n",
    "# 아이들과 거점지를 방문한 횟수 n\n",
    "n = int(input())\n",
    "\n",
    "presents = []\n",
    "\n",
    "for _ in range(n):\n",
    "    a = [int(x) for x in input().split()]\n",
    "    if a.pop(0) == 0:\n",
    "        if not presents:\n",
    "            print(-1)\n",
    "        else :\n",
    "            print(-1 * heapq.heappop(presents))\n",
    "    else :\n",
    "        for b in a:\n",
    "            heapq.heappush(presents,-b)"
   ]
  },
  {
   "cell_type": "markdown",
   "metadata": {},
   "source": [
    "### 17503, 맥주 축제\n",
    "\n",
    "**문제**\n",
    "- N 일 동안 맥주 축제\n",
    "- K 종류의 무료 맥주 제공\n",
    "    - 하루에 맥주 1병만 가능\n",
    "    - 이전에 받았던 종류의 맥주는 다시 받을 수 없음\n",
    "- 대학생 전씨 \n",
    "    - N 일 동안 N 병을 마시려 한다.\n",
    "    - 도수가 높은 맥주를 마실 수 없다.\n",
    "        - 다음날 수업에 결석하기 때문에\n",
    "    - 간을 강화할 계획\n",
    "    - K 종류의 맥주\n",
    "        - 각각 '선호도' 와 '도수 레벨' 을 매김 - 정수\n",
    "    - 맥주 N 개의 선호도 합이 M 이상이 되야 함\n",
    "\n",
    "\n",
    "**입력**\n",
    "- 첫 번째 줄에 축제가 열리는 기간 N (1 ≤ N ≤ 200,000) 과, 채워야 하는 선호도의 합 M (1 ≤ M < 231) 과, 마실 수 있는 맥주 종류의 수 K (N ≤ K ≤ 200,000) 가 주어집니다.\n",
    "\n",
    "- 다음 K개의 줄에는 1번부터 K번 맥주의 선호도 vi (0 ≤ vi ≤ 10,000) 와 도수 레벨 ci (1 ≤ ci < 231) (vi, ci는 정수) 이 공백을 사이에 두고 주어집니다.\n",
    "\n",
    "- 1번부터 K번 맥주의 종류는 모두 다릅니다.\n",
    "\n",
    "**출력**\n",
    "- 첫 번째 줄에 주어진 선호도의 합 M을 채우면서 N개의 맥주를 모두 마실 수 있는 간 레벨의 최솟값을 출력합니다.\n",
    "\n",
    "- 만약 아무리 레벨을 올려도 조건을 만족시킬 수 없으면 첫 번째 줄에 \"-1\" 하나만 출력하고 더 이상 아무것도 출력하지 않아야 합니다."
   ]
  },
  {
   "cell_type": "markdown",
   "metadata": {},
   "source": [
    "**아이디어**\n",
    "- [도수, 맥주의 선호도] 를 최소힙에 넣는다.\n",
    "- while 맥주 힙 반복\n",
    "    - 최초 - 힙에서 도수가 낮은 맥주부터 N 개 꺼내어 리스트에 추가.\n",
    "        - N 개 맥주의 선호도를 더하여 M(채워야 할 선호도의 합) 을 넘을 시 \n",
    "            - N 개 맥주 중 가장 높은 도수 return \n",
    "        - 못 넘을 시\n",
    "            - 리스트의 가장 앞 항목 pop\n",
    "            - 다음 반복 문\n",
    "    - 다음 반복 문\n",
    "        - 맥주 힙 pop() 하여 도수가 가장 낮은 맥주 1개 꺼내어 리스트에 추가\n",
    "            - N 개 맥주의 선호도를 더하여 M 을 넘을 시\n",
    "                - N 개 맥주 중 가장 높은 도수 retrun \n",
    "            - 못 넘을 시\n",
    "                - 리스트의 가장 앞 항목 pop\n",
    "            - 다음 반복 문"
   ]
  },
  {
   "cell_type": "code",
   "execution_count": 30,
   "metadata": {},
   "outputs": [
    {
     "name": "stdout",
     "output_type": "stream",
     "text": [
      "3 9 5\n",
      "2 5\n",
      "4 6\n",
      "3 3\n",
      "4 3\n",
      "1 4\n",
      "5\n"
     ]
    }
   ],
   "source": [
    "import sys\n",
    "import heapq\n",
    "\n",
    "# 축제가 열리는 기간, 채워야 할 선호도의 합, 맥주의 종류\n",
    "N, M, K = map(int,sys.stdin.readline().split())\n",
    "\n",
    "beers = []\n",
    "drinks = [] # N개의 맥주를 마신다.\n",
    "likes = 0\n",
    "alcohol = 0\n",
    "\n",
    "# 맥주의 선호도(vi) 및 도수(ci) 레벨 입력\n",
    "# 도수로 정렬\n",
    "for _ in range(K):\n",
    "    vi, ci = map(int,sys.stdin.readline().split())\n",
    "    heapq.heappush(beers,[ci, vi])\n",
    "    \n",
    "for _ in range(N):\n",
    "    beer = heapq.heappop(beers) # 도수가 적은 순 대로 마신다.\n",
    "    likes += beer[1]\n",
    "    alcohol = beer[0]\n",
    "    heapq.heappush(drinks,[beer[1], beer[0]]) # 선호도 , 도수 작은 순대로 정렬\n",
    "    \n",
    "if likes >= M:\n",
    "    print(alcohol)\n",
    "else:\n",
    "    while beers:\n",
    "        no_beer = heapq.heappop(drinks) # 선호도가 가장 작은 맥주 안마신다.\n",
    "        likes -= no_beer[0]\n",
    "    \n",
    "        beer = heapq.heappop(beers)\n",
    "        likes = likes + beer[1]\n",
    "        alcohol = beer[0]\n",
    "        heapq.heappush(drinks, [beer[1], beer[0]])\n",
    "        if likes >= M:\n",
    "            break\n",
    "            \n",
    "    if likes >= M:\n",
    "        print(alcohol)\n",
    "    else :\n",
    "        print(-1)\n",
    "    "
   ]
  },
  {
   "cell_type": "markdown",
   "metadata": {},
   "source": [
    "### 1927, 최소 힙\n",
    "\n",
    "**문제**\n",
    "- 널리 잘 알려진 자료구조 중 최소 힙이 있다. 최소 힙을 이용하여 다음과 같은 연산을 지원하는 프로그램을 작성하시오.\n",
    "\n",
    "- 배열에 자연수 x를 넣는다.\n",
    "- 배열에서 가장 작은 값을 출력하고, 그 값을 배열에서 제거한다.\n",
    "- 프로그램은 처음에 비어있는 배열에서 시작하게 된다.\n",
    "\n",
    "**입력**\n",
    "- 첫째 줄에 연산의 개수 N(1 ≤ N ≤ 100,000)이 주어진다. 다음 N개의 줄에는 연산에 대한 정보를 나타내는 정수 x가 주어진다. 만약 x가 자연수라면 배열에 x라는 값을 넣는(추가하는) 연산이고, x가 0이라면 배열에서 가장 작은 값을 출력하고 그 값을 배열에서 제거하는 경우이다. x는 231보다 작은 자연수 또는 0이고, 음의 정수는 입력으로 주어지지 않는다.\n",
    "\n",
    "**출력**\n",
    "- 입력에서 0이 주어진 횟수만큼 답을 출력한다. 만약 배열이 비어 있는 경우인데 가장 작은 값을 출력하라고 한 경우에는 0을 출력하면 된다."
   ]
  },
  {
   "cell_type": "markdown",
   "metadata": {},
   "source": [
    "**아이디어**\n",
    "- 힙 활용\n",
    "    - 입력 0 일시\n",
    "        - 힙이 비어 있는지 확인\n",
    "            - 비어 있을 시\n",
    "                - 0 반환\n",
    "            - 아닐 시\n",
    "                - heappop() 반환\n",
    "    - 입력 0 이 아닐 시\n",
    "        - heappush() 하여 힙에 추가"
   ]
  },
  {
   "cell_type": "code",
   "execution_count": 36,
   "metadata": {},
   "outputs": [
    {
     "name": "stdout",
     "output_type": "stream",
     "text": [
      "9\n",
      "0\n",
      "0\n",
      "12345678\n",
      "2\n",
      "1\n",
      "0\n",
      "1\n",
      "0\n",
      "2\n",
      "0\n",
      "12345678\n",
      "0\n",
      "0\n",
      "32\n"
     ]
    }
   ],
   "source": [
    "import heapq\n",
    "import sys\n",
    "\n",
    "N = int(input())\n",
    "\n",
    "nums = []\n",
    "\n",
    "for _ in range(N):\n",
    "    x = int(sys.stdin.readline())\n",
    "    if x == 0:\n",
    "        if nums:\n",
    "            print(heapq.heappop(nums))\n",
    "        else:\n",
    "            print(0)\n",
    "    else:\n",
    "        heapq.heappush(nums, x)"
   ]
  },
  {
   "cell_type": "markdown",
   "metadata": {},
   "source": [
    "### 11279, 최대 힙\n",
    "\n",
    "**문제**\n",
    "- 널리 잘 알려진 자료구조 중 최대 힙이 있다. 최대 힙을 이용하여 다음과 같은 연산을 지원하는 프로그램을 작성하시오.\n",
    "\n",
    "- 배열에 자연수 x를 넣는다.\n",
    "- 배열에서 가장 큰 값을 출력하고, 그 값을 배열에서 제거한다.\n",
    "- 프로그램은 처음에 비어있는 배열에서 시작하게 된다.\n",
    "\n",
    "**입력**\n",
    "- 첫째 줄에 연산의 개수 N(1 ≤ N ≤ 100,000)이 주어진다. 다음 N개의 줄에는 연산에 대한 정보를 나타내는 정수 x가 주어진다. 만약 x가 자연수라면 배열에 x라는 값을 넣는(추가하는) 연산이고, x가 0이라면 배열에서 가장 큰 값을 출력하고 그 값을 배열에서 제거하는 경우이다. 입력되는 자연수는 231보다 작다.\n",
    "\n",
    "**출력**\n",
    "- 입력에서 0이 주어진 회수만큼 답을 출력한다. 만약 배열이 비어 있는 경우인데 가장 큰 값을 출력하라고 한 경우에는 0을 출력하면 된다"
   ]
  },
  {
   "cell_type": "markdown",
   "metadata": {},
   "source": [
    "**아이디어**\n",
    "- 힙 활용\n",
    "    - 입력 0 일시\n",
    "        - 힙이 비어 있는지 확인\n",
    "            - 비어 있을 시\n",
    "                - 0 반환\n",
    "            - 아닐 시\n",
    "                - heappop() 반환\n",
    "                - 최대 힙이므로 -1 을 곱한다.\n",
    "    - 입력 0 이 아닐 시\n",
    "        - heappush() 하여 힙에 추가\n",
    "        - 최대 힙이므로 -1 을 곱한다."
   ]
  },
  {
   "cell_type": "code",
   "execution_count": null,
   "metadata": {},
   "outputs": [],
   "source": [
    "import heapq\n",
    "import sys\n",
    "\n",
    "N = int(input())\n",
    "\n",
    "nums = []\n",
    "\n",
    "for _ in range(N):\n",
    "    x = -1 * int(sys.stdin.readline())\n",
    "    if x == 0:\n",
    "        if nums:\n",
    "            print(-1 * heapq.heappop(nums))\n",
    "        else:\n",
    "            print(0)\n",
    "    else:\n",
    "        heapq.heappush(nums, x)"
   ]
  },
  {
   "cell_type": "markdown",
   "metadata": {},
   "source": [
    "### 15903, 카드 합체 놀이\n",
    "\n",
    "**문제**\n",
    "- 자연수가 쓰여져 있는 카드 n 장\n",
    "- i 번 카드엔 a<sub>i</sub> 가 쓰여져 있음\n",
    "- 카드 합체 과정\n",
    "    - x번 카드 + y 번 카드 (x ≠ y)\n",
    "    -  계산한 값을 x번 카드와 y번 카드 두 장 모두에 덮어 쓴다.\n",
    "- 위 과정 n 번 반복\n",
    "    - n 장의 카드를 모두 더한 값이 이 놀이의 점수\n",
    "    - 해당 점수를 가장 작게 만들어야 함\n",
    "\n",
    "**입력**\n",
    "- 첫 번째 줄에 카드의 개수를 나타내는 수 n(2 ≤ n ≤ 1,000)과 카드 합체를 몇 번 하는지를 나타내는 수 m(0 ≤ m ≤ 15×n)이 주어진다.\n",
    "\n",
    "- 두 번째 줄에 맨 처음 카드의 상태를 나타내는 n개의 자연수 a1, a2, …, an이 공백으로 구분되어 주어진다. (1 ≤ ai ≤ 1,000,000)\n",
    "\n",
    "**출력**\n",
    "- 첫 번째 줄에 만들 수 있는 가장 작은 점수를 출력한다."
   ]
  },
  {
   "cell_type": "markdown",
   "metadata": {},
   "source": [
    "**아이디어**\n",
    "- 카드를 heap 자료구조에 push\n",
    "- m 번 반복\n",
    "    - heap 자료구조에서 두번 pop 하여 가장 작은 두수 x, y 확인\n",
    "    - 두 수를 더한다.\n",
    "    - heap에 더한 값을 두번 push 한다.\n",
    "- 반복 종료\n",
    "    - heap 에 있는 모든 수 를 더하여 print()"
   ]
  },
  {
   "cell_type": "code",
   "execution_count": 42,
   "metadata": {},
   "outputs": [
    {
     "name": "stdout",
     "output_type": "stream",
     "text": [
      "4 2\n",
      "4 2 3 1\n",
      "[3, 3, 3, 4]\n",
      "[3, 4, 6, 6]\n",
      "19\n"
     ]
    }
   ],
   "source": [
    "import heapq\n",
    "import sys\n",
    "\n",
    "n, m = map(int,input().split())\n",
    "\n",
    "nums = [int(x) for x in sys.stdin.readline().split()]\n",
    "heapq.heapify(nums)\n",
    "\n",
    "for _ in range(m):\n",
    "    x = heapq.heappop(nums)\n",
    "    y = heapq.heappop(nums)\n",
    "    \n",
    "    new_num = x + y\n",
    "    heapq.heappush(nums, new_num)\n",
    "    heapq.heappush(nums, new_num)\n",
    "print(sum(nums))"
   ]
  },
  {
   "cell_type": "markdown",
   "metadata": {},
   "source": [
    "### 11286, 절댓값 힙\n",
    "\n",
    "**문제**\n",
    "- 절댓값 힙은 다음과 같은 연산을 지원하는 자료구조이다.\n",
    "\n",
    "- 배열에 정수 x (x ≠ 0)를 넣는다.\n",
    "- 배열에서 절댓값이 가장 작은 값을 출력하고, 그 값을 배열에서 제거한다. 절댓값이 가장 작은 값이 여러개일 때는, 가장 작은 수를 출력하고, 그 값을 배열에서 제거한다.\n",
    "- 프로그램은 처음에 비어있는 배열에서 시작하게 된다.\n",
    "\n",
    "**입력**\n",
    "- 첫째 줄에 연산의 개수 N(1≤N≤100,000)이 주어진다. 다음 N개의 줄에는 연산에 대한 정보를 나타내는 정수 x가 주어진다. 만약 x가 0이 아니라면 배열에 x라는 값을 넣는(추가하는) 연산이고, x가 0이라면 배열에서 절댓값이 가장 작은 값을 출력하고 그 값을 배열에서 제거하는 경우이다. 입력되는 정수는 -231보다 크고, 231보다 작다.\n",
    "\n",
    "**출력**\n",
    "- 입력에서 0이 주어진 회수만큼 답을 출력한다. 만약 배열이 비어 있는 경우인데 절댓값이 가장 작은 값을 출력하라고 한 경우에는 0을 출력하면 된다."
   ]
  },
  {
   "cell_type": "markdown",
   "metadata": {},
   "source": [
    "**아이디어**\n",
    "- 힙에 [|x|, x] 를 넣는다.\n",
    "- x 가 0 일시\n",
    "    - 힙이 비어있는지 확인\n",
    "        - 비어 있을 시\n",
    "            - 0 반환\n",
    "        - 아닐 시\n",
    "            - heap에서 pop 하여 1번째 인덱스 값 반환\n",
    "- x 가 0 이 아닐 시\n",
    "    - heap 에 [abs(x), x] 을 push"
   ]
  },
  {
   "cell_type": "code",
   "execution_count": 44,
   "metadata": {},
   "outputs": [
    {
     "name": "stdout",
     "output_type": "stream",
     "text": [
      "18\n",
      "1\n",
      "-1\n",
      "0\n",
      "-1\n",
      "0\n",
      "1\n",
      "0\n",
      "0\n",
      "1\n",
      "1\n",
      "-1\n",
      "-1\n",
      "2\n",
      "-2\n",
      "0\n",
      "-1\n",
      "0\n",
      "-1\n",
      "0\n",
      "1\n",
      "0\n",
      "1\n",
      "0\n",
      "-2\n",
      "0\n",
      "2\n",
      "0\n",
      "0\n"
     ]
    }
   ],
   "source": [
    "import heapq \n",
    "import sys\n",
    "\n",
    "N = int(sys.stdin.readline())\n",
    "\n",
    "nums = []\n",
    "\n",
    "for _ in range(N):\n",
    "    x = int(sys.stdin.readline())\n",
    "    \n",
    "    if x == 0:\n",
    "        if not nums :\n",
    "            print(0)\n",
    "        else :\n",
    "            print(heapq.heappop(nums)[1])\n",
    "    else :\n",
    "        heapq.heappush(nums, [abs(x), x])"
   ]
  },
  {
   "cell_type": "markdown",
   "metadata": {},
   "source": [
    "### 11003, 최솟값 찾기\n",
    "\n",
    "**문제**\n",
    "\n",
    "N개의 수 A<sub>1</sub>, A<sub>2</sub>, ..., A<sub>N</sub>과 L이 주어진다.\n",
    "\n",
    "D<sub>i</sub> = A<sub>i-L+1</sub> ~ A<sub>i</sub> 중의 최솟값이라고 할 때, D에 저장된 수를 출력하는 프로그램을 작성하시오. 이때, i ≤ 0 인 A<sub>i</sub>는 무시하고 D를 구해야 한다.\n",
    "\n",
    "**입력**\n",
    "\n",
    "첫째 줄에 N과 L이 주어진다. (1 ≤ L ≤ N ≤ 5,000,000)\n",
    "\n",
    "둘째 줄에는 N개의 수 A<sub>i</sub>가 주어진다. (-109 ≤ A<sub>i</sub> ≤ 109)\n",
    "\n",
    "**출력**\n",
    "\n",
    "첫째 줄에 D<sub>I</sub>를 공백으로 구분하여 순서대로 출력한다."
   ]
  },
  {
   "cell_type": "markdown",
   "metadata": {},
   "source": [
    "**아이디어**\n",
    "- "
   ]
  },
  {
   "cell_type": "code",
   "execution_count": 9,
   "metadata": {
    "scrolled": true
   },
   "outputs": [
    {
     "name": "stdout",
     "output_type": "stream",
     "text": [
      "12 3\n",
      "1 5 2 3 6 2 3 7 3 5 2 6\n",
      "1 1 1 2 2 2 2 2 3 3 2 2 \n"
     ]
    }
   ],
   "source": [
    "import heapq\n",
    "\n",
    "N, L = map(int,input().split())\n",
    "nums = list(map(int,input().split()))\n",
    "\n",
    "result = \"\"\n",
    "\n",
    "num_heap = []\n",
    "for i in range(1,L+1):\n",
    "    heapq.heappush(num_heap,nums[i-1])\n",
    "    result += str(num_heap[0])+\" \"\n",
    "    \n",
    "for i in range(L+1, N+1):\n",
    "    num_heap.remove(nums[i-L-1])\n",
    "    heapq.heapify(num_heap)\n",
    "    heapq.heappush(num_heap, nums[i-1])\n",
    "    result += str(num_heap[0])+\" \"\n",
    "    \n",
    "print(result)"
   ]
  },
  {
   "cell_type": "code",
   "execution_count": null,
   "metadata": {},
   "outputs": [],
   "source": [
    "import sys\n",
    "import heapq\n",
    "\n",
    "N, L = map(int,sys.stdin.readline().split())\n",
    "nums = list(map(int,sys.stdin.readline().split()))\n",
    "\n",
    "result = \"\"\n",
    "\n",
    "num_heap = []\n",
    "for i in range(1,L+1):\n",
    "    heapq.heappush(num_heap,nums[i-1])\n",
    "    result += str(num_heap[0])+\" \"\n",
    "    \n",
    "for i in range(L+1, N+1):\n",
    "    num_heap.remove(nums[i-L-1])\n",
    "    heapq.heapify(num_heap) # heap 에 들어있는 수 중 가장 나중에 넣었던 수 제거\n",
    "    heapq.heappush(num_heap, nums[i-1])\n",
    "    result += str(num_heap[0])+\" \"\n",
    "    \n",
    "print(result)"
   ]
  }
 ],
 "metadata": {
  "kernelspec": {
   "display_name": "Python 3",
   "language": "python",
   "name": "python3"
  },
  "language_info": {
   "codemirror_mode": {
    "name": "ipython",
    "version": 3
   },
   "file_extension": ".py",
   "mimetype": "text/x-python",
   "name": "python",
   "nbconvert_exporter": "python",
   "pygments_lexer": "ipython3",
   "version": "3.7.9"
  }
 },
 "nbformat": 4,
 "nbformat_minor": 4
}
