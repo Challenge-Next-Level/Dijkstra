{
 "cells": [
  {
   "cell_type": "markdown",
   "metadata": {},
   "source": [
    "### 힙(Heap)\n",
    "- ### 최댓값과 최솟값을 빠르게 찾기 위한 자료구조\n",
    "![](heap.png)\n",
    "    - 완전 이진 트리\n",
    "        - 각 노드의 값이 자식 노드의 값 보다 작거나 큰 트리\n",
    "        - **최대 힙(Max Heap)**\n",
    "            - 각 노드의 값이 자식 노드의 값보다 크거나 같음\n",
    "        - **최소 힙(Min Heap)**\n",
    "            - 각 노드의 값이 자식 노드의 값보다 작거나 같음\n",
    "    - 노드의 값의 대소 관계는 **부모-자식 노드 사이 에만** 성립\n",
    "        - 현제 노드 사이에는 상관 없음\n",
    "    - 자식 노드의 개수는 힙의 종류에 따라 다름\n",
    "    - 시간복잡도\n",
    "        - **O(log n)**\n",
    "    "
   ]
  },
  {
   "cell_type": "markdown",
   "metadata": {},
   "source": [
    "### 파이썬 힙 자료구조\n",
    "- **heapq 모듈**을 통하여, 일반적인 리스트를 **최소 힙** 처럼 다룰 수 있게 해줌"
   ]
  },
  {
   "cell_type": "markdown",
   "metadata": {},
   "source": [
    "- ### 모듈 임포트"
   ]
  },
  {
   "cell_type": "code",
   "execution_count": 1,
   "metadata": {},
   "outputs": [],
   "source": [
    "import heapq"
   ]
  },
  {
   "cell_type": "markdown",
   "metadata": {},
   "source": [
    "- ### 힙 생성 & 원소 추가\n",
    "    - 리스트를 최소 힙 처럼 다룰 수 있게 해준다.\n",
    "    - **heap = 빈 리스트를 생성 → heapq.heappush(heap, 추가할 원소)** 를 통하여 원소 추가"
   ]
  },
  {
   "cell_type": "code",
   "execution_count": 2,
   "metadata": {},
   "outputs": [
    {
     "name": "stdout",
     "output_type": "stream",
     "text": [
      "[10, 50, 20]\n"
     ]
    }
   ],
   "source": [
    "# 빈 리스트 생성\n",
    "heap = []\n",
    "\n",
    "heapq.heappush(heap, 50)\n",
    "heapq.heappush(heap, 10)\n",
    "heapq.heappush(heap, 20)\n",
    "\n",
    "print(heap)"
   ]
  },
  {
   "cell_type": "markdown",
   "metadata": {},
   "source": [
    "- ### 기존 리스트를 힙 자료형으로 변환\n",
    "    - **heapq.heapify(기존 리스트) 를 통하여 변환**"
   ]
  },
  {
   "cell_type": "code",
   "execution_count": 4,
   "metadata": {},
   "outputs": [
    {
     "name": "stdout",
     "output_type": "stream",
     "text": [
      "[10, 50, 20]\n"
     ]
    }
   ],
   "source": [
    "heap2 = [50,10,20]\n",
    "\n",
    "heapq.heapify(heap2)\n",
    "\n",
    "print(heap2)"
   ]
  },
  {
   "cell_type": "markdown",
   "metadata": {},
   "source": [
    "- ### 힙에서 원소 삭제\n",
    "    - **heapq.heappop(heap) 를 통하여 가장 작은 원소를 제거**\n",
    "        - 최소 힙 이므로 트리의 루트가 제거된다."
   ]
  },
  {
   "cell_type": "code",
   "execution_count": 5,
   "metadata": {},
   "outputs": [
    {
     "name": "stdout",
     "output_type": "stream",
     "text": [
      "pop 된 원소 :  10\n",
      "남은 힙 :  [20, 50]\n"
     ]
    }
   ],
   "source": [
    "result = heapq.heappop(heap)\n",
    "\n",
    "print(\"pop 된 원소 : \", result)\n",
    "print(\"남은 힙 : \", heap)"
   ]
  },
  {
   "cell_type": "markdown",
   "metadata": {},
   "source": [
    "- ### 최대 힙 구현하기\n",
    "    - 파이썬의 heapq 모듈은 최소 힙으로 구현\n",
    "    - 최대 힙 구현을 위해서 방법이 필요\n",
    "        - **- 부호를 붙여 줄 시 최솟값 정렬 → 최댓값 정렬 전환**\n",
    "        - 힙에 원소 추가 시 (- 원소, 원소) 의 튜플 형태로 넣어준다.\n",
    "        - 튜플의 첫 번째 원소를 우선 순위로 힙을 구성한다."
   ]
  },
  {
   "cell_type": "code",
   "execution_count": 6,
   "metadata": {},
   "outputs": [
    {
     "name": "stdout",
     "output_type": "stream",
     "text": [
      "[(-9, 9), (-7, 7), (-3, 3), (-1, 1), (-5, 5)]\n"
     ]
    }
   ],
   "source": [
    "heap_items = [1,3,5,7,9]\n",
    "\n",
    "max_heap = []\n",
    "for item in heap_items:\n",
    "    heapq.heappush(max_heap, (-item, item))\n",
    "    \n",
    "print(max_heap)"
   ]
  }
 ],
 "metadata": {
  "kernelspec": {
   "display_name": "Python 3",
   "language": "python",
   "name": "python3"
  },
  "language_info": {
   "codemirror_mode": {
    "name": "ipython",
    "version": 3
   },
   "file_extension": ".py",
   "mimetype": "text/x-python",
   "name": "python",
   "nbconvert_exporter": "python",
   "pygments_lexer": "ipython3",
   "version": "3.7.9"
  }
 },
 "nbformat": 4,
 "nbformat_minor": 4
}
