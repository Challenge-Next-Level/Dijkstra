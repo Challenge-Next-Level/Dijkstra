{
 "cells": [
  {
   "cell_type": "markdown",
   "metadata": {},
   "source": [
    "### 더 맴게\n",
    "\n",
    "**문제 설명**\n",
    "- 매운 것을 좋아하는 Leo는 모든 음식의 스코빌 지수를 K 이상으로 만들고 싶습니다. 모든 음식의 스코빌 지수를 K 이상으로 만들기 위해 Leo는 스코빌 지수가 가장 낮은 두 개의 음식을 아래와 같이 특별한 방법으로 섞어 새로운 음식을 만듭니다.\n",
    "\n",
    "- 섞은 음식의 스코빌 지수 = 가장 맵지 않은 음식의 스코빌 지수 + (두 번째로 맵지 않은 음식의 스코빌 지수 * 2)\n",
    "- Leo는 모든 음식의 스코빌 지수가 K 이상이 될 때까지 반복하여 섞습니다.\n",
    "- Leo가 가진 음식의 스코빌 지수를 담은 배열 scoville과 원하는 스코빌 지수 K가 주어질 때, 모든 음식의 스코빌 지수를 K 이상으로 만들기 위해 섞어야 하는 최소 횟수를 return 하도록 solution 함수를 작성해주세요.\n",
    "\n",
    "**제한 사항**\n",
    "- scoville의 길이는 2 이상 1,000,000 이하입니다.\n",
    "- K는 0 이상 1,000,000,000 이하입니다.\n",
    "- scoville의 원소는 각각 0 이상 1,000,000 이하입니다.\n",
    "- 모든 음식의 스코빌 지수를 K 이상으로 만들 수 없는 경우에는 -1을 return 합니다.\n",
    "\n",
    "**입출력 예**\n",
    "\n",
    "|scoville|K|return|\n",
    "|---|---|---|\n",
    "|[1, 2, 3, 9, 10, 12]|7|2|"
   ]
  },
  {
   "cell_type": "markdown",
   "metadata": {},
   "source": [
    "**아이디어**\n",
    "- heapq 활용하여 scoville 을 heapq 를 활용하여 heap 자료구조로 사용\n",
    "- heappop 을 활용하여 가장 작은 두 수 를 확인"
   ]
  },
  {
   "cell_type": "code",
   "execution_count": 34,
   "metadata": {},
   "outputs": [],
   "source": [
    "import heapq\n",
    "\n",
    "def solution(scoville, K):\n",
    "    \n",
    "    answer = 0\n",
    "    \n",
    "    heapq.heapify(scoville)\n",
    "    chk = True\n",
    "    while chk:\n",
    "        if len(scoville) == 1:\n",
    "            if scoville[0] >= K:\n",
    "                break\n",
    "            else :\n",
    "                answer = -1\n",
    "                break\n",
    "        \n",
    "    \n",
    "        min_1 = heapq.heappop(scoville)\n",
    "        min_2 = heapq.heappop(scoville)\n",
    "        \n",
    "        if min_1 >= K and min_2 >= K :\n",
    "            chk = False\n",
    "            break\n",
    "        \n",
    "        new = min_1 + 2*min_2\n",
    "        \n",
    "        heapq.heappush(scoville, new)\n",
    "        answer += 1\n",
    "    return answer"
   ]
  },
  {
   "cell_type": "code",
   "execution_count": 35,
   "metadata": {},
   "outputs": [
    {
     "name": "stdout",
     "output_type": "stream",
     "text": [
      "[1, 9, 2, 10, 12, 3]\n"
     ]
    },
    {
     "data": {
      "text/plain": [
       "2"
      ]
     },
     "execution_count": 35,
     "metadata": {},
     "output_type": "execute_result"
    }
   ],
   "source": [
    "solution([10,12,3,9,1,2], 7)"
   ]
  },
  {
   "cell_type": "markdown",
   "metadata": {},
   "source": [
    "### 디스크 컨트롤러\n",
    "\n",
    "**문제 설명**\n",
    "- 하드디스크는 한 번에 하나의 작업만 수행할 수 있습니다. 디스크 컨트롤러를 구현하는 방법은 여러 가지가 있습니다. 가장 일반적인 방법은 요청이 들어온 순서대로 처리하는 것입니다.\n",
    "\n",
    "- 각 작업에 대해 [작업이 요청되는 시점, 작업의 소요시간]을 담은 2차원 배열 jobs가 매개변수로 주어질 때, 작업의 요청부터 종료까지 걸린 시간의 평균을 가장 줄이는 방법으로 처리하면 평균이 얼마가 되는지 return 하도록 solution 함수를 작성해주세요. (단, 소수점 이하의 수는 버립니다)\n",
    "\n",
    "**제한 사항**\n",
    "- jobs의 길이는 1 이상 500 이하입니다.\n",
    "- jobs의 각 행은 하나의 작업에 대한 [작업이 요청되는 시점, 작업의 소요시간] 입니다.\n",
    "- 각 작업에 대해 작업이 요청되는 시간은 0 이상 1,000 이하입니다.\n",
    "- 각 작업에 대해 작업의 소요시간은 1 이상 1,000 이하입니다.\n",
    "- 하드디스크가 작업을 수행하고 있지 않을 때에는 먼저 요청이 들어온 작업부터 처리합니다.\n",
    "\n",
    "**입출력 예**\n",
    "\n",
    "|jobs|return|\n",
    "|---|---|\n",
    "|[[0, 3], [1, 9], [2, 6]]|9|"
   ]
  },
  {
   "cell_type": "markdown",
   "metadata": {},
   "source": [
    "**아이디어**\n",
    "- 이전 작업 종료시 요청이 들어온 작업들 중 가장 소요시간이 작은 작업 시작\n",
    "    - 시간 반복\n",
    "        - 시작 시간이 됬을 시 heap에 추가\n",
    "        - 종료 시 heap 에서 heappop 하여 가장 소요시간이 작은 작업 시작"
   ]
  },
  {
   "cell_type": "code",
   "execution_count": 73,
   "metadata": {},
   "outputs": [],
   "source": [
    "import heapq\n",
    "\n",
    "def solution(jobs):\n",
    "    answer = 0\n",
    "    time = 0\n",
    "    num_jobs = len(jobs)\n",
    "    req_task = []\n",
    "    doing_task = []\n",
    "    while jobs or req_task or doing_task:\n",
    "        # 작업 요청 시각 == 현재 시각\n",
    "        if jobs:\n",
    "            if time == jobs[0][0] :\n",
    "                job = jobs.pop(0)\n",
    "                new_job = [job[1], job[0]]\n",
    "                heapq.heappush(req_task, new_job)\n",
    "        \n",
    "        # 현재 작업중인 작업이 있을 시 작업이 끝났는지 확인\n",
    "        if doing_task:\n",
    "            if doing_task[0] == time:\n",
    "                doing_task = []\n",
    "            \n",
    "        # 현재 작업중인 작업이 없을 시 작업 시작\n",
    "        if not doing_task and req_task:\n",
    "            job = heapq.heappop(req_task)\n",
    "            finish_task = time + job[0]\n",
    "            doing_task = [finish_task] # 종료 시각\n",
    "            answer += (finish_task - job[1])\n",
    "            \n",
    "        time += 1\n",
    "    answer = answer // num_jobs\n",
    "    return answer"
   ]
  },
  {
   "cell_type": "code",
   "execution_count": 109,
   "metadata": {},
   "outputs": [],
   "source": [
    "import heapq\n",
    "\n",
    "def solution(jobs):\n",
    "    time = 0\n",
    "    num_jobs = len(jobs)\n",
    "    heapq.heapify(jobs) # heap 정렬\n",
    "    req_task = []\n",
    "    answer = 0\n",
    "    while jobs or req_task:\n",
    "        # 작업 요청\n",
    "        while jobs and jobs[0][0] <= time:\n",
    "            job = heapq.heappop(jobs)\n",
    "            new_job = [job[1], job[0]] # 수행시간, 요청 시각\n",
    "            heapq.heappush(req_task, new_job)\n",
    "            \n",
    "        # req_task 가 비어있는지 확인\n",
    "        if req_task:\n",
    "            # 작업 수행\n",
    "            do_task = heapq.heappop(req_task)\n",
    "            time += do_task[0]\n",
    "            answer += time - do_task[1]\n",
    "        else:\n",
    "            time += 1\n",
    "        \n",
    "    answer = answer // num_jobs\n",
    "    \n",
    "    return answer"
   ]
  },
  {
   "cell_type": "markdown",
   "metadata": {},
   "source": [
    "### 이중우선순위 큐\n",
    "\n",
    "**문제 설명**\n",
    "- 이중 우선순위 큐는 다음 연산을 할 수 있는 자료구조를 말합니다.\n",
    "\n",
    "|명령어|수신 탑(높이)|\n",
    "|---|---|\n",
    "|I 숫자|큐에 주어진 숫자를 삽입합니다.|\n",
    "|D 1|큐에서 최댓값을 삭제합니다.|\n",
    "|D -1|큐에서 최솟값을 삭제합니다.|\n",
    "\n",
    "- 이중 우선순위 큐가 할 연산 operations가 매개변수로 주어질 때, 모든 연산을 처리한 후 큐가 비어있으면 [0,0] 비어있지 않으면 [최댓값, 최솟값]을 return 하도록 solution 함수를 구현해주세요.\n",
    "\n",
    "**제한사항**\n",
    "- operations는 길이가 1 이상 1,000,000 이하인 문자열 배열입니다.\n",
    "- operations의 원소는 큐가 수행할 연산을 나타냅니다.\n",
    "- 원소는 “명령어 데이터” 형식으로 주어집니다.- 최댓값/최솟값을 삭제하는 연산에서 최댓값/최솟값이 둘 이상인 경우, 하나만 삭제합니다.\n",
    "- 빈 큐에 데이터를 삭제하라는 연산이 주어질 경우, 해당 연산은 무시합니다.\n",
    "\n",
    "**입출력 예**\n",
    "\n",
    "|operations|return|\n",
    "|---|---|\n",
    "|[\"I 16\",\"D 1\"]|[0,0]|\n",
    "|[\"I 7\",\"I 5\",\"I -5\",\"D -1\"]|[7,5]|"
   ]
  },
  {
   "cell_type": "markdown",
   "metadata": {},
   "source": [
    "**아이디어**\n",
    "- answer - heap 으로 활용\n",
    "- operations 반복문\n",
    "    - 해당 연산 수행"
   ]
  },
  {
   "cell_type": "code",
   "execution_count": 126,
   "metadata": {},
   "outputs": [],
   "source": [
    "import heapq\n",
    "\n",
    "def solution(operations):\n",
    "    answer = []\n",
    "    for oper in operations:\n",
    "        type_oper, num_oper = oper.split(\" \")\n",
    "        num_oper = int(num_oper)\n",
    "        if type_oper == \"I\":\n",
    "            heapq.heappush(answer, num_oper)\n",
    "        else:\n",
    "            if num_oper == 1 and answer:\n",
    "                answer.remove(max(answer))\n",
    "                heapq.heapify(answer)\n",
    "            elif num_oper == -1 and answer:\n",
    "                heapq.heappop(answer)\n",
    "                \n",
    "    if answer:\n",
    "        return [max(answer), min(answer)]\n",
    "    else:\n",
    "        return [0,0]"
   ]
  },
  {
   "cell_type": "code",
   "execution_count": 119,
   "metadata": {
    "scrolled": true
   },
   "outputs": [
    {
     "name": "stdout",
     "output_type": "stream",
     "text": [
      "[]\n"
     ]
    },
    {
     "data": {
      "text/plain": [
       "[0, 0]"
      ]
     },
     "execution_count": 119,
     "metadata": {},
     "output_type": "execute_result"
    }
   ],
   "source": [
    "solution([\"I 16\",\"D 1\"])"
   ]
  },
  {
   "cell_type": "code",
   "execution_count": 120,
   "metadata": {},
   "outputs": [
    {
     "name": "stdout",
     "output_type": "stream",
     "text": [
      "[5, 7]\n"
     ]
    },
    {
     "data": {
      "text/plain": [
       "[7, 5]"
      ]
     },
     "execution_count": 120,
     "metadata": {},
     "output_type": "execute_result"
    }
   ],
   "source": [
    "solution([\"I 7\",\"I 5\",\"I -5\",\"D -1\"])"
   ]
  },
  {
   "cell_type": "code",
   "execution_count": 127,
   "metadata": {},
   "outputs": [
    {
     "data": {
      "text/plain": [
       "[0, 0]"
      ]
     },
     "execution_count": 127,
     "metadata": {},
     "output_type": "execute_result"
    }
   ],
   "source": [
    "solution([\"I 16\", \"I -5643\", \"D -1\", \"D 1\", \"D 1\", \"I 123\", \"D -1\"])"
   ]
  }
 ],
 "metadata": {
  "kernelspec": {
   "display_name": "Python 3",
   "language": "python",
   "name": "python3"
  },
  "language_info": {
   "codemirror_mode": {
    "name": "ipython",
    "version": 3
   },
   "file_extension": ".py",
   "mimetype": "text/x-python",
   "name": "python",
   "nbconvert_exporter": "python",
   "pygments_lexer": "ipython3",
   "version": "3.7.9"
  }
 },
 "nbformat": 4,
 "nbformat_minor": 4
}
