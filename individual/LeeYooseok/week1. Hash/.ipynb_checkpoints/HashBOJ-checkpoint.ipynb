{
 "cells": [
  {
   "cell_type": "markdown",
   "metadata": {},
   "source": [
    "### 16165, 걸그룹 마스터 준석이\n",
    "\n",
    "**문제**\n",
    "- 정우는 소문난 걸그룹 덕후이다. 정우의 친구 준석이도 걸그룹을 좋아하지만 이름을 잘 외우지 못한다는 문제가 있었다. 정우는 친구를 위해 걸그룹 개인과 팀의 이름을 검색하여 외우게 하는 퀴즈 프로그램을 만들고자 한다.\n",
    "\n",
    "**입력**\n",
    "- 첫 번째 줄에는 총 입력 받을 걸그룹의 수 N(0 < N < 100)과 맞혀야 할 문제의 수 M(0 < M < 100)을 입력받는다.\n",
    "\n",
    "- 두 번째 줄부터는 각 걸그룹마다 팀의 이름, 걸그룹의 인원 수, 멤버의 이름을 한 줄씩 차례대로 입력받는다. 팀과 멤버의 이름은 최대 100글자이며, 모든 글자는 알파벳 소문자이다. 하나의 걸그룹이나 서로 다른 두 걸그룹에 이름이 같은 두 멤버가 있는 경우는 없다.\n",
    "\n",
    "- 그 다음 줄부터는 M개의 퀴즈를 입력받는다. 각각의 퀴즈는 두 줄로 이루어져 있으며, 팀의 이름이나 멤버의 이름이 첫 줄에 주어지고 퀴즈의 종류를 나타내는 0 또는 1이 두 번째 줄에 주어진다. 퀴즈의 종류가 0일 경우 팀의 이름이 주어지며, 1일 경우 멤버의 이름이 주어진다.\n",
    "\n",
    "**출력**\n",
    "- 첫 번째 줄부터 차례대로 퀴즈에 대한 답을 출력한다. 퀴즈의 종류가 0일 경우 해당 팀에 속한 멤버의 이름을 사전순으로 한 줄에 한 명씩 출력한다. 퀴즈의 종류가 1일 경우 해당 멤버가 속한 팀의 이름을 출력한다."
   ]
  },
  {
   "cell_type": "markdown",
   "metadata": {},
   "source": [
    "**아이디어**\n",
    "\n",
    "- key : value = 각 그룹의 이름 : 그룹 멤버 이름 리스트 인 딕셔너리 생성\n",
    "    - value 는 사전 순 이어야 하므로 모두 입력 받은 후 정렬 한다.\n",
    "- 문제 및 문제 종류 입력 받아 \n",
    "    - 문제 종류 == 0\n",
    "        - 문제를 key 값으로 갖는 value 리스트를 출력\n",
    "    - 문제 종류 == 1\n",
    "        - 문제가 value 의 리스트에 속하는 key 출력"
   ]
  },
  {
   "cell_type": "code",
   "execution_count": 5,
   "metadata": {},
   "outputs": [
    {
     "name": "stdout",
     "output_type": "stream",
     "text": [
      "3 4\n",
      "twice\n",
      "9\n",
      "jihyo\n",
      "dahyeon\n",
      "mina\n",
      "momo\n",
      "chaeyoung\n",
      "jeongyeon\n",
      "tzuyu\n",
      "sana\n",
      "nayeon\n",
      "blackpink\n",
      "4\n",
      "jisu\n",
      "lisa\n",
      "rose\n",
      "jenny\n",
      "redvelvet\n",
      "5\n",
      "wendy\n",
      "irene\n",
      "seulgi\n",
      "yeri\n",
      "joy\n",
      "sana\n",
      "1\n",
      "twice\n",
      "wendy\n",
      "1\n",
      "redvelvet\n",
      "twice\n",
      "0\n",
      "chaeyoung\n",
      "dahyeon\n",
      "jeongyeon\n",
      "jihyo\n",
      "mina\n",
      "momo\n",
      "nayeon\n",
      "sana\n",
      "tzuyu\n",
      "rose\n",
      "1\n",
      "blackpink\n"
     ]
    }
   ],
   "source": [
    "n, m = map(int, input().split())\n",
    "# n = 걸그룹의 수\n",
    "# m = 맞혀야 할 문제의 수\n",
    "\n",
    "groups = dict()\n",
    "\n",
    "for _ in range(n):\n",
    "    group_name = input()\n",
    "    group_member = int(input())\n",
    "    members = list()\n",
    "    for j in range(group_member):\n",
    "        members.append(input())\n",
    "    groups[group_name] = members\n",
    "    \n",
    "for _ in range(m):\n",
    "    problem = input()\n",
    "    problem_type = int(input())\n",
    "    if problem_type == 0:\n",
    "        groups[problem].sort()\n",
    "        for member in groups[problem]:\n",
    "            print(member)\n",
    "    else :\n",
    "        for group in groups.items():\n",
    "            if problem in group[1]:\n",
    "                print(group[0])\n",
    "                break"
   ]
  },
  {
   "cell_type": "markdown",
   "metadata": {},
   "source": [
    "### 19583, 싸이버개강총회\n",
    "\n",
    "**문제**\n",
    "- 보영이는 알고리즘 동아리 HI-ARC를 운영하고 있다.\n",
    "\n",
    "- 보영이와 운영진 일동은 20년도에 입학하는 신입생들을 맞이하기 위해 열심히 준비를 해왔으나, 전염병의 유행이 악화된 나머지 정부에서는 “사회적 거리두기”를 선언했고 그에 따라 학교에서는 교내 모든 동아리에 오프라인 모임을 자제하라는 공지를 하기에 이르렀다. 오프라인에서 모임을 자제하라는 권고가 나온 어려운 상황에도 불구하고, 보영이는 기지를 발휘하여 개강총회를 미튜브 스트리밍으로 대체하는 결정을 하게 된다.\n",
    "\n",
    "- 하지만, 미튜브 스트리밍으로 개강총회를 하게 될 경우, 아래와 같은 문제가 있었다.\n",
    "    - 누가 개강총회에 왔는지 알 수 없다.\n",
    "    - 누가 개강총회 자리에 끝까지 남아있었는지 알 수 없다.\n",
    "    - 어떤 사람이 개강총회 스트리밍을 단순히 틀어놓기만 했는지 알 수 없다.\n",
    "    - 이런 문제를 해결하기 위해서, 다음과 같이 출석부를 관리하기로 결심했다.\n",
    "\n",
    "- 개강총회를 시작하기 전에, 학회원의 입장 확인 여부를 확인한다. 학회원의 입장 여부는 개강총회가 시작한 시간 이전에 대화를 한 적이 있는 학회원의 닉네임을 보고 체크한다. 개강총회를 시작하자마자 채팅 기록을 남긴 학회원도 제 시간에 입장이 확인된 것으로 간주한다.\n",
    "- 개강총회를 끝내고 나서, 스트리밍을 끝낼 때까지 학회원의 퇴장 확인 여부를 확인한다. 학회원의 퇴장 여부는 개강총회가 끝나고 스트리밍이 끝날 때까지 대화를 한 적이 있는 학회원의 닉네임을 보고 체크한다. 개강총회가 끝나자마자 채팅 기록을 남겼거나, 개강총회 스트리밍이 끝나자마자 채팅 기록을 남긴 학회원도 제 시간에 퇴장이 확인된 것으로 간주한다.  \n",
    "- 단, 00:00부터는 개강총회를 시작하기 전의 대기 시간이며, 개강총회 스트리밍 끝난 시간 이후로 남겨져 있는 채팅 기록은 다른 스트리밍 영상의 채팅 기록으로 간주한다.\n",
    "\n",
    "- 이 때, 입장부터 퇴장까지 모두 확인된 학회원은 전부 몇 명인가?\n",
    "\n",
    "**입력**\n",
    "- 첫번째 줄에는 개강총회를 시작한 시간 S, 개강총회를 끝낸 시간 E, 개강총회 스트리밍을 끝낸 시간 Q가 주어진다. (00:00 ≤ S < E < Q ≤ 23:59)\n",
    "- 각 시간은 HH:MM의 형식으로 주어진다.\n",
    "\n",
    "- 두번째 줄부터는 HI-ARC에서 방송하는 스트리밍 영상의 채팅 기록들이 시간순으로 주어지는데, (시간) (학회원 닉네임)의 형태로 주어진다. 학회원의 닉네임은 알파벳 대소문자와 숫자, 그리고 특수 기호(., _, -)로만 구성된 문자열이며 최대 20글자이다.\n",
    "\n",
    "- 모든 채팅 기록은 개강총회가 일어난 날에 발생한 채팅 기록이다. 즉 00:00~23:59의 시간만 주어진다. 채팅 기록은 10만 줄을 넘지 않는다.\n",
    "\n",
    "**출력**\n",
    "- 출석이 확인된 학회원의 인원 수를 출력한다."
   ]
  },
  {
   "cell_type": "markdown",
   "metadata": {},
   "source": [
    "**아이디어**\n",
    "- key : value = 이름 : 채팅 횟수\n",
    "    - 입력 시 시간 확인"
   ]
  },
  {
   "cell_type": "code",
   "execution_count": 9,
   "metadata": {},
   "outputs": [
    {
     "name": "stdout",
     "output_type": "stream",
     "text": [
      "22:00 23:00 23:30\n",
      "0\n"
     ]
    }
   ],
   "source": [
    "import sys\n",
    "\n",
    "S, E, Q = input().split()\n",
    "\n",
    "S = S.replace(\":\", \"\")\n",
    "E = E.replace(\":\", \"\")\n",
    "Q = Q.replace(\":\", \"\")\n",
    "\n",
    "chats = dict()\n",
    "\n",
    "while True:\n",
    "    try:\n",
    "        time, name = sys.stdin.readline().split()\n",
    "        \n",
    "        time = time.replace(\":\", \"\")\n",
    "        \n",
    "        if time <= S:\n",
    "            chats[name] = 1\n",
    "        elif E <= time <= Q and name in chats.keys():\n",
    "            chats[name] += 1\n",
    "    except:\n",
    "        break\n",
    "        \n",
    "result = 0\n",
    "for i in chats.values():\n",
    "    if i >= 2:\n",
    "        result += 1\n",
    "print(result)"
   ]
  },
  {
   "cell_type": "markdown",
   "metadata": {},
   "source": [
    "### 13915, 현수의 열기구\n",
    "\n",
    "**문제**\n",
    "- 현수는 열기구 여름특강의 강사다. 현수는 매우 성실해서 모든 수강생들의 열기구 비행을 기록하고있다. 매 비행 이후, 현수는 그 비행에 참석한 수강생들의 기록을 리스트에 추가한다. 리스트에는 각 수강생마다 띄웠던 기구의 인식번호만이 기록된다. \n",
    "\n",
    "- 매 시즌이 끝난 후, 현수는 얼마나 많은 종류의 열기구들을 비행해봤는지에 따른 수강생들의 숙련도를 분류해 나열하려고한다. 만약 두 수강생이 비행했던 열기구의 종류들이 같다면 두 수강생은 같은 숙련도를 가진것으로 분류된다. (이 경우, 비행을 한 횟수는 관계가 없다.)\n",
    "\n",
    "- 현수는 총 9 종류의 열기구를 관리하며, 수강생들의 기록은 각 열기구의 번호들로써 이루어진다. 모든 수강생들 중 비행 횟수가 9번을 넘는 수강생은 없다. (1번 열기구를 세번 2번과 3번을 각각 한번씩 운용했던 수강생의 번호는 11123이 되겠다.) \n",
    "\n",
    "- 예를 들어, 수강생 234423과 수강생 342는 같은 숙련도를 가진 것으로 분류된다. 하지만 수강생 118821과 수강생 1189821 같은 경우는 9번 열기구 비행 유무의 차이로 다른 숙련도를 가진 것으로 분류된다.\n",
    "\n",
    "- 현수의 리스트에 있는 수강생들이 총 몇개의 숙련도로 분류되는지 구하라.\n",
    "\n",
    "**입력**\n",
    "- 각 테스트케이스마다 첫 줄에는 총 수강생의 수인 정수 N(1 ≤ N ≤ 1 000) 이 주어진다.\n",
    "\n",
    "- 이어지는 N줄은 열기구 비행 기록을 나타내는 각 수강생들의 번호들이 주어진다.\n",
    "\n",
    "**출력**\n",
    "- 매 테스트케이스마다 각 줄에 현수의 리스트에 있는 수강생들의 숙련도가 몇 개로 분류되어지는지 출력하라."
   ]
  },
  {
   "cell_type": "markdown",
   "metadata": {},
   "source": [
    "**아이디어**\n",
    "- 각 수강생들의 기록 입력을 set 으로 변환\n",
    "    - 숙련도 = set → list → sorting\n",
    "- 숙련도를 result set 에 추가\n",
    "    - 중복 방지 하여 숙련도를 분류함\n",
    "- result set 길이 반환"
   ]
  },
  {
   "cell_type": "code",
   "execution_count": 40,
   "metadata": {},
   "outputs": [
    {
     "name": "stdout",
     "output_type": "stream",
     "text": [
      "5\n",
      "132\n",
      "42\n",
      "3312\n",
      "43\n",
      "24424\n",
      "3\n",
      "3\n",
      "222\n",
      "22\n",
      "2\n",
      "1\n",
      "\n"
     ]
    }
   ],
   "source": [
    "while True:\n",
    "    try:\n",
    "        n = int(input())\n",
    "        result = set()\n",
    "        for _ in range(n):\n",
    "            record = input()\n",
    "            types = set()\n",
    "            for i in record:\n",
    "                types.add(i)\n",
    "            types = sorted(list(types))\n",
    "            result.add(''.join(types))\n",
    "        print(len(result))\n",
    "    except:\n",
    "        break"
   ]
  }
 ],
 "metadata": {
  "kernelspec": {
   "display_name": "Python 3",
   "language": "python",
   "name": "python3"
  },
  "language_info": {
   "codemirror_mode": {
    "name": "ipython",
    "version": 3
   },
   "file_extension": ".py",
   "mimetype": "text/x-python",
   "name": "python",
   "nbconvert_exporter": "python",
   "pygments_lexer": "ipython3",
   "version": "3.7.9"
  }
 },
 "nbformat": 4,
 "nbformat_minor": 4
}
