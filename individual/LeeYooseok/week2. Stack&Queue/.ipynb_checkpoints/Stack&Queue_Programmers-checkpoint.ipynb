{
 "cells": [
  {
   "cell_type": "markdown",
   "metadata": {},
   "source": [
    "### 기능 개발\n",
    "\n",
    "**문제 설명**\n",
    "- 프로그래머스 팀에서는 기능 개선 작업을 수행 중입니다. 각 기능은 진도가 100%일 때 서비스에 반영할 수 있습니다.\n",
    "\n",
    "- 또, 각 기능의 개발속도는 모두 다르기 때문에 뒤에 있는 기능이 앞에 있는 기능보다 먼저 개발될 수 있고, 이때 뒤에 있는 기능은 앞에 있는 기능이 배포될 때 함께 배포됩니다.\n",
    "\n",
    "- 먼저 배포되어야 하는 순서대로 작업의 진도가 적힌 정수 배열 progresses와 각 작업의 개발 속도가 적힌 정수 배열 speeds가 주어질 때 각 배포마다 몇 개의 기능이 배포되는지를 return 하도록 solution 함수를 완성하세요.\n",
    "\n",
    "**제한 사항**\n",
    "- 작업의 개수(progresses, speeds배열의 길이)는 100개 이하입니다.\n",
    "- 작업 진도는 100 미만의 자연수입니다.\n",
    "- 작업 속도는 100 이하의 자연수입니다.\n",
    "- 배포는 하루에 한 번만 할 수 있으며, 하루의 끝에 이루어진다고 가정합니다. 예를 들어 진도율이 95%인 작업의 개발 속도가 하루에 4%라면 배포는 2일 뒤에 이루어집니다.\n",
    "\n",
    "**입출력 예**\n",
    "\n",
    "|progresses|speeds|return|\n",
    "|---|---|---|\n",
    "|[93, 30, 55]|[1, 30, 5]|[2, 1]|\n",
    "|[95, 90, 99, 99, 80, 99]|[1, 1, 1, 1, 1, 1]|[1, 3, 2]|"
   ]
  },
  {
   "cell_type": "markdown",
   "metadata": {},
   "source": [
    "**아이디어**\n",
    "- 100 에서 progress 리스트의 각 값들 을 빼서 남은 진행 율 리스트 생성\n",
    "- 남은 진행 율 리스트 를 speeds 의 각 값들로 나누어 남은 일수 리스트 생성\n",
    "- 남은 일수 리스트 앞부터 확인하여 이전값이 현재 값보다 크면 pop(0) 한다. \n",
    "    - pop(0)의 횟수를 세어 result 리스트에 최종 추가\n",
    "- 남은 일 수 계산시 // 연산 시 버림을 하게 되지만 해당 문제의 경우 올림을 해 주어야 한다.\n",
    "    - math 모듈의 ceil 활용"
   ]
  },
  {
   "cell_type": "code",
   "execution_count": 28,
   "metadata": {},
   "outputs": [],
   "source": [
    "import math\n",
    "\n",
    "def solution(progresses, speeds):\n",
    "    residuals = list()\n",
    "    for progress in progresses:\n",
    "        residuals.append(100-progress)\n",
    "    \n",
    "    days = list()\n",
    "    for i in range(len(residuals)):\n",
    "        days.append(math.ceil(residuals[i] / speeds[i]))\n",
    "        \n",
    "    result = list()\n",
    "    while len(days) != 0:\n",
    "        chk = days.pop(0)\n",
    "        cnt = 1\n",
    "        if(len(days) == 0):\n",
    "            result.append(cnt)\n",
    "            break\n",
    "        while chk >= days[0]:\n",
    "            cnt += 1\n",
    "            days.pop(0)\n",
    "            if(len(days) == 0):\n",
    "                break\n",
    "        result.append(cnt)\n",
    "\n",
    "    return result"
   ]
  },
  {
   "cell_type": "code",
   "execution_count": 27,
   "metadata": {},
   "outputs": [
    {
     "data": {
      "text/plain": [
       "[2, 1]"
      ]
     },
     "execution_count": 27,
     "metadata": {},
     "output_type": "execute_result"
    }
   ],
   "source": [
    "solution([93,30,55],[1,30,5])"
   ]
  }
 ],
 "metadata": {
  "kernelspec": {
   "display_name": "Python 3",
   "language": "python",
   "name": "python3"
  },
  "language_info": {
   "codemirror_mode": {
    "name": "ipython",
    "version": 3
   },
   "file_extension": ".py",
   "mimetype": "text/x-python",
   "name": "python",
   "nbconvert_exporter": "python",
   "pygments_lexer": "ipython3",
   "version": "3.7.9"
  }
 },
 "nbformat": 4,
 "nbformat_minor": 4
}
