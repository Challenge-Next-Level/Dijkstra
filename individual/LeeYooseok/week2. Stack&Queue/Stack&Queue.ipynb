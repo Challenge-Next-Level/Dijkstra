{
 "cells": [
  {
   "cell_type": "markdown",
   "metadata": {},
   "source": [
    "### Stack&Queue\n",
    "- ### Stack (스택)\n",
    "    - LIFO (Last In First Out)\n",
    "        - 나중에 넣은 데이터가 먼저 반환되도록 설계한 메모리 구조\n",
    "    - Push - 데이터 입력\n",
    "    - Pop - 데이터 출력\n",
    "![](stack.png)\n",
    "    - python \n",
    "        - 리스트를 사용하여 스택 구조로 데이터 처리\n",
    "        - Push → append()\n",
    "        - Pop → pop()\n",
    "        \n",
    "- ### Queue (큐)\n",
    "    - FIFO (First Input First Out)\n",
    "        - 먼저 들어온 데이터가 먼저 반환되도록 설계한 메모리 구조\n",
    "    - Push - Enqueue - 데이터 입력\n",
    "    - Get - Dequeue - 데이터 출력\n",
    "![](queue.png)\n",
    "    - python\n",
    "        - 리스트를 사용하여 큐 구조로 데이터 처리\n",
    "        - Push → append()\n",
    "        - Get → pop(0)"
   ]
  }
 ],
 "metadata": {
  "kernelspec": {
   "display_name": "Python 3",
   "language": "python",
   "name": "python3"
  },
  "language_info": {
   "codemirror_mode": {
    "name": "ipython",
    "version": 3
   },
   "file_extension": ".py",
   "mimetype": "text/x-python",
   "name": "python",
   "nbconvert_exporter": "python",
   "pygments_lexer": "ipython3",
   "version": "3.7.9"
  }
 },
 "nbformat": 4,
 "nbformat_minor": 4
}
