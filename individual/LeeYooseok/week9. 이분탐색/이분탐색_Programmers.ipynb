{
 "cells": [
  {
   "cell_type": "markdown",
   "id": "2d5b837f",
   "metadata": {},
   "source": [
    "### 입국 심사\n",
    "\n",
    "**문제 설명**\n",
    "- n명이 입국심사를 위해 줄을 서서 기다리고 있습니다. 각 입국심사대에 있는 심사관마다 심사하는데 걸리는 시간은 다릅니다.\n",
    "\n",
    "- 처음에 모든 심사대는 비어있습니다. 한 심사대에서는 동시에 한 명만 심사를 할 수 있습니다. 가장 앞에 서 있는 사람은 비어 있는 심사대로 가서 심사를 받을 수 있습니다. 하지만 더 빨리 끝나는 심사대가 있으면 기다렸다가 그곳으로 가서 심사를 받을 수도 있습니다.\n",
    "\n",
    "- 모든 사람이 심사를 받는데 걸리는 시간을 최소로 하고 싶습니다.\n",
    "\n",
    "- 입국심사를 기다리는 사람 수 n, 각 심사관이 한 명을 심사하는데 걸리는 시간이 담긴 배열 times가 매개변수로 주어질 때, 모든 사람이 심사를 받는데 걸리는 시간의 최솟값을 return 하도록 solution 함수를 작성해주세요.\n",
    "\n",
    "**제한사항**\n",
    "- 입국심사를 기다리는 사람은 1명 이상 1,000,000,000명 이하입니다.\n",
    "- 각 심사관이 한 명을 심사하는데 걸리는 시간은 1분 이상 1,000,000,000분 이하입니다.\n",
    "- 심사관은 1명 이상 100,000명 이하입니다.\n",
    "\n",
    "**입출력 예**\n",
    "\n",
    "|n|times|return|\n",
    "|---|---|---|\n",
    "|6|[7, 10]|28|"
   ]
  },
  {
   "cell_type": "markdown",
   "id": "38959e89",
   "metadata": {},
   "source": [
    "**아이디어**\n",
    "- 0 ~ 최대 시간 (max(times) * n) 시간 배열을 이분 탐색\n",
    "- 중간 값이 가능 하다면, \n",
    "    - result = mid\n",
    "    - right = mid - 1\n",
    "- 중간 값이 불가능 하다면\n",
    "    - left = mid + 1"
   ]
  },
  {
   "cell_type": "code",
   "execution_count": 3,
   "id": "d5358bb1",
   "metadata": {},
   "outputs": [
    {
     "name": "stdout",
     "output_type": "stream",
     "text": [
      "28\n"
     ]
    }
   ],
   "source": [
    "n = 6\n",
    "times = [7,10]\n",
    "\n",
    "def solution(n, times):\n",
    "    answer = 0\n",
    "    left = 0\n",
    "    right = max(times)*n\n",
    "    \n",
    "    while left <= right:\n",
    "        mid = (left+right)//2\n",
    "        people = 0\n",
    "        for t in times:\n",
    "            people += (mid//t)\n",
    "        \n",
    "        if people >= n:\n",
    "            answer = mid\n",
    "            right = mid-1\n",
    "        else:\n",
    "            left = mid+1\n",
    "    \n",
    "    return answer\n",
    "    \n",
    "solution(n, times)"
   ]
  },
  {
   "cell_type": "markdown",
   "id": "104203d3",
   "metadata": {},
   "source": [
    "### 징검 다리\n",
    "\n",
    "**문제 설명**\n",
    "- 출발지점부터 distance만큼 떨어진 곳에 도착지점이 있습니다. 그리고 그사이에는 바위들이 놓여있습니다. 바위 중 몇 개를 제거하려고 합니다.\n",
    "- 예를 들어, 도착지점이 25만큼 떨어져 있고, 바위가 [2, 14, 11, 21, 17] 지점에 놓여있을 때 바위 2개를 제거하면 출발지점, 도착지점, 바위 간의 거리가 아래와 같습니다.\n",
    "\n",
    "|제거한 바위의 위치|각 바위 사이의 거리|거리의 최솟값|\n",
    "|---|---|---|\n",
    "|[21, 17]|[2, 9, 3, 11]|2|\n",
    "|[2, 21]|[11, 3, 3, 8]|3|\n",
    "|[2, 11]|[14, 3, 4, 4]|3|\n",
    "|[11, 21]|[2, 12, 3, 8]|2|\n",
    "|[2, 14]|[11, 6, 4, 4]|4|\n",
    "\n",
    "- 위에서 구한 거리의 최솟값 중에 가장 큰 값은 4입니다.\n",
    "\n",
    "- 출발지점부터 도착지점까지의 거리 distance, 바위들이 있는 위치를 담은 배열 rocks, 제거할 바위의 수 n이 매개변수로 주어질 때, 바위를 n개 제거한 뒤 각 지점 사이의 거리의 최솟값 중에 가장 큰 값을 return 하도록 solution 함수를 작성해주세요.\n",
    "\n",
    "**제한사항**\n",
    "- 도착지점까지의 거리 distance는 1 이상 1,000,000,000 이하입니다.\n",
    "- 바위는 1개 이상 50,000개 이하가 있습니다.\n",
    "- n 은 1 이상 바위의 개수 이하입니다.\n",
    "\n",
    "**입출력 예**\n",
    "\n",
    "|distance|rocks|n|return|\n",
    "|---|---|---|---|\n",
    "|25|[2, 14, 11, 21, 17]|2|4|"
   ]
  },
  {
   "cell_type": "markdown",
   "id": "eda45b44",
   "metadata": {},
   "source": [
    "**아이디어**\n"
   ]
  },
  {
   "cell_type": "code",
   "execution_count": 26,
   "id": "be470db3",
   "metadata": {},
   "outputs": [
    {
     "name": "stdout",
     "output_type": "stream",
     "text": [
      "[11, 6, 7, 1]\n"
     ]
    },
    {
     "data": {
      "text/plain": [
       "1"
      ]
     },
     "execution_count": 26,
     "metadata": {},
     "output_type": "execute_result"
    }
   ],
   "source": [
    "distance = 25\n",
    "rocks = [2,14,11,21,17]\n",
    "n = 2\n",
    "\n",
    "def solution(distance, rocks, n):\n",
    "    rocks.sort()\n",
    "    rocks.insert(0, 0)\n",
    "    rocks.append(distance)\n",
    "    \n",
    "    distances = list()\n",
    "    for r in range(1, len(rocks)):\n",
    "        distances.append(rocks[r]-rocks[r-1])\n",
    "    for _ in range(n):\n",
    "        i = distances.index(min(distances[:-1]))\n",
    "        n = distances[i] + distances[i+1]\n",
    "        del distances[i]\n",
    "        del distances[i]\n",
    "        distances.insert(i, n)\n",
    "    print(distances)\n",
    "        \n",
    "    return min(distances)\n",
    "    \n",
    "solution(distance, rocks, n)"
   ]
  }
 ],
 "metadata": {
  "kernelspec": {
   "display_name": "Python 3 (ipykernel)",
   "language": "python",
   "name": "python3"
  },
  "language_info": {
   "codemirror_mode": {
    "name": "ipython",
    "version": 3
   },
   "file_extension": ".py",
   "mimetype": "text/x-python",
   "name": "python",
   "nbconvert_exporter": "python",
   "pygments_lexer": "ipython3",
   "version": "3.9.7"
  }
 },
 "nbformat": 4,
 "nbformat_minor": 5
}
