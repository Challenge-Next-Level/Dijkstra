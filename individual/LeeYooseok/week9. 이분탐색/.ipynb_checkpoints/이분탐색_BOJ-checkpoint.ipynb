{
 "cells": [
  {
   "cell_type": "markdown",
   "id": "d30fd0c3",
   "metadata": {},
   "source": [
    "### 2022, 사다리\n",
    "\n",
    "**문제**\n",
    "- 아래의 그림과 같이 높은 빌딩 사이를 따라 좁은 길이 나있다. 두 개의 사다리가 있는데 길이가 x인 사다리는 오른쪽 빌딩의 아래를 받침대로 하여 왼쪽 빌딩에 기대져 있고 길이가 y인 사다리는 왼쪽 빌딩의 아래를 받침대로 하여 오른쪽 빌딩에 기대져 있다. 그리고 두 사다리는 땅에서부터 정확하게 c인 지점에서 서로 교차한다. 그렇다면 두 빌딩은 얼마나 떨어져 있는 걸까?\n",
    "\n",
    "![](2022.png)\n",
    "\n",
    "**입력**\n",
    "- 첫째 줄에 차례대로 x, y, c에 해당하는 양의 실수 세 개가 입력된다. 수는 소수점 여섯째 자리까지 주어질 수 있으며, 3,000,000,000보다 작거나 같다.\n",
    "\n",
    "**출력**\n",
    "- 두 빌딩사이에 너비가 되는 수치를 출력한다. 절대/상대 오차는 10<sup>-3</sup> 까지 허용한다."
   ]
  },
  {
   "cell_type": "markdown",
   "id": "ff0a37e6",
   "metadata": {},
   "source": [
    "**아이디어**\n",
    "- w = x1 + y1\n",
    "- x1 : c = w : hx\n",
    "    - hx = (x<sup>2</sup> - w<sup>2</sup>)<sup>1/2</sup> \n",
    "- y1 : c = w : hy\n",
    "    - hy = (y<sup>2</sup> - w<sup>2</sup>)<sup>1/2</sup>\n",
    "    \n",
    "- 위 비례식을 만족하는 w 를 이분 탐색으로 찾기\n",
    "    - 0 ~ min(x,y)\n",
    "    "
   ]
  },
  {
   "cell_type": "code",
   "execution_count": null,
   "id": "9b6a3169",
   "metadata": {},
   "outputs": [],
   "source": []
  },
  {
   "cell_type": "markdown",
   "id": "8cf3dbdb",
   "metadata": {},
   "source": [
    "### 10815, 숫자카드\n",
    "\n",
    "**문제**\n",
    "- 숫자 카드는 정수 하나가 적혀져 있는 카드이다. 상근이는 숫자 카드 N개를 가지고 있다. 정수 M개가 주어졌을 때, 이 수가 적혀있는 숫자 카드를 상근이가 가지고 있는지 아닌지를 구하는 프로그램을 작성하시오.\n",
    "\n",
    "**입력**\n",
    "- 첫째 줄에 상근이가 가지고 있는 숫자 카드의 개수 N(1 ≤ N ≤ 500,000)이 주어진다. 둘째 줄에는 숫자 카드에 적혀있는 정수가 주어진다. 숫자 카드에 적혀있는 수는 -10,000,000보다 크거나 같고, 10,000,000보다 작거나 같다. 두 숫자 카드에 같은 수가 적혀있는 경우는 없다.\n",
    "\n",
    "- 셋째 줄에는 M(1 ≤ M ≤ 500,000)이 주어진다. 넷째 줄에는 상근이가 가지고 있는 숫자 카드인지 아닌지를 구해야 할 M개의 정수가 주어지며, 이 수는 공백으로 구분되어져 있다. 이 수도 -10,000,000보다 크거나 같고, 10,000,000보다 작거나 같다\n",
    "\n",
    "**출력**\n",
    "- 첫째 줄에 입력으로 주어진 M개의 수에 대해서, 각 수가 적힌 숫자 카드를 상근이가 가지고 있으면 1을, 아니면 0을 공백으로 구분해 출력한다."
   ]
  },
  {
   "cell_type": "markdown",
   "id": "29be941b",
   "metadata": {},
   "source": [
    "**아이디어**\n",
    "- 둘째줄 입력 수 를 이분탐색으로 네번째 줄 입력 수 에서 찾는다."
   ]
  },
  {
   "cell_type": "code",
   "execution_count": 2,
   "id": "8dfbd3d3",
   "metadata": {},
   "outputs": [
    {
     "name": "stdout",
     "output_type": "stream",
     "text": [
      "5\n",
      "6 3 2 10 -10\n",
      "8\n",
      "10 9 -5 2 3 4 5 -10\n",
      "1 0 0 1 1 0 0 1 "
     ]
    }
   ],
   "source": [
    "N = int(input())\n",
    "nums = list(map(int, input().split()))\n",
    "\n",
    "M = int(input())\n",
    "input_nums = list(map(int, input().split()))\n",
    "\n",
    "nums.sort()\n",
    "\n",
    "def binary_search(target, nums):\n",
    "    left = 0\n",
    "    right = len(nums)-1\n",
    "    \n",
    "    while left <= right:\n",
    "        mid = (left + right)//2\n",
    "        \n",
    "        if nums[mid] == target:\n",
    "            return True\n",
    "        elif nums[mid] < target:\n",
    "            left = mid + 1\n",
    "        else :\n",
    "            right = mid - 1\n",
    "    \n",
    "    return False\n",
    "\n",
    "for i in range(M):\n",
    "    n = input_nums[i]\n",
    "    \n",
    "    if binary_search(n, nums):\n",
    "        print(\"1\", end = \" \")\n",
    "    else :\n",
    "        print(\"0\", end = \" \")"
   ]
  },
  {
   "cell_type": "markdown",
   "id": "a2b2f519",
   "metadata": {},
   "source": []
  }
 ],
 "metadata": {
  "kernelspec": {
   "display_name": "Python 3 (ipykernel)",
   "language": "python",
   "name": "python3"
  },
  "language_info": {
   "codemirror_mode": {
    "name": "ipython",
    "version": 3
   },
   "file_extension": ".py",
   "mimetype": "text/x-python",
   "name": "python",
   "nbconvert_exporter": "python",
   "pygments_lexer": "ipython3",
   "version": "3.9.7"
  }
 },
 "nbformat": 4,
 "nbformat_minor": 5
}
