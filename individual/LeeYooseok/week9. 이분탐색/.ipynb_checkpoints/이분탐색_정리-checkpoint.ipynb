{
 "cells": [
  {
   "cell_type": "markdown",
   "id": "2583fe04",
   "metadata": {},
   "source": [
    "### 이분탐색\n",
    "- ### 원하는 탐색 범위를 두 부분으로 분할해서 찾는 방식\n",
    "- ### 시간 복잡도\n",
    "    - O(log(n))\n",
    "- ### 방법\n",
    "    - 1. 이분 탐색을 하고자 할 때 이미 정렬이 되어 있어야 합니다.\n",
    "    - 2. left, right로 mid값을 잡아 줍니다.\n",
    "    - 3. mid 값과 구하고자 하는 값을 비교 합니다.\n",
    "    - 4. 비교할 시 mid 값보다 구하고자 하는 값이 높으면 left를 mid + 1 로 만들어 주고 낮으면 right를 mid - 1 로 만들어 줍니다.\n",
    "    - 5. left > rigth 가 될 때까지 1~3번을 반복해서 구하고자 하는 값을 찾습니다."
   ]
  },
  {
   "cell_type": "code",
   "execution_count": 2,
   "id": "a6dc3f46",
   "metadata": {},
   "outputs": [
    {
     "name": "stdout",
     "output_type": "stream",
     "text": [
      "5\n",
      "4\n"
     ]
    }
   ],
   "source": [
    "nums = [1,2,3,4,5,6,7,8,9,15]\n",
    "\n",
    "result = 0\n",
    "\n",
    "num = int(input())\n",
    "\n",
    "left = 0\n",
    "right = len(nums)\n",
    "\n",
    "while left <= right:\n",
    "    mid = (left+right)//2\n",
    "    \n",
    "    if nums[mid] > num:\n",
    "        right = mid-1\n",
    "    elif nums[mid] < num:\n",
    "        left = mid+1\n",
    "    else :\n",
    "        result = mid\n",
    "        break\n",
    "    \n",
    "print(result)"
   ]
  }
 ],
 "metadata": {
  "kernelspec": {
   "display_name": "Python 3 (ipykernel)",
   "language": "python",
   "name": "python3"
  },
  "language_info": {
   "codemirror_mode": {
    "name": "ipython",
    "version": 3
   },
   "file_extension": ".py",
   "mimetype": "text/x-python",
   "name": "python",
   "nbconvert_exporter": "python",
   "pygments_lexer": "ipython3",
   "version": "3.9.7"
  }
 },
 "nbformat": 4,
 "nbformat_minor": 5
}
