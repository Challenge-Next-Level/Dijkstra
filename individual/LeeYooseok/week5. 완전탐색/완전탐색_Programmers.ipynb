{
 "cells": [
  {
   "cell_type": "markdown",
   "metadata": {},
   "source": [
    "### 모의고사\n",
    "\n",
    "**문제 설명**\n",
    "- 수포자는 수학을 포기한 사람의 준말입니다. 수포자 삼인방은 모의고사에 수학 문제를 전부 찍으려 합니다. 수포자는 1번 문제부터 마지막 문제까지 다음과 같이 찍습니다.\n",
    "\n",
    "- 1번 수포자가 찍는 방식: 1, 2, 3, 4, 5, ...\n",
    "- 2번 수포자가 찍는 방식: 2, 1, 2, 3, 2, 4, 2, 5,  ...\n",
    "- 3번 수포자가 찍는 방식: 3, 3, 1, 1, 2, 2, 4, 4, 5, 5,  ...\n",
    "\n",
    "- 1번 문제부터 마지막 문제까지의 정답이 순서대로 들은 배열 answers가 주어졌을 때, 가장 많은 문제를 맞힌 사람이 누구인지 배열에 담아 return 하도록 solution 함수를 작성해주세요.\n",
    "\n",
    "**제한 조건**\n",
    "- 시험은 최대 10,000 문제로 구성되어있습니다.\n",
    "- 문제의 정답은 1, 2, 3, 4, 5중 하나입니다.\n",
    "- 가장 높은 점수를 받은 사람이 여럿일 경우, return하는 값을 오름차순 정렬해주세요.\n",
    "\n",
    "**입출력 예**\n",
    "\n",
    "|answers|return|\n",
    "|---|---|\n",
    "|[1,2,3,4,5]|[1]|\n",
    "|[1,3,2,4,2]|[1,2,3]|"
   ]
  },
  {
   "cell_type": "markdown",
   "metadata": {},
   "source": [
    "**아이디어**\n",
    "- 사람 : 맞힌 문제 수 형식으로 딕셔너리 만듦\n",
    "- answer의 길이만큼 반복\n",
    "    - if answer[i] == sol1[i % 5]:\n",
    "         - 딕셔너리[1] += 1\n",
    "    - if answer[i] == sol2[i % 8]:\n",
    "         - 딕셔너리[2] += 1\n",
    "    - if answer[i] == sol3[i % 10]:\n",
    "        - 딕셔너리[3] += 1"
   ]
  },
  {
   "cell_type": "code",
   "execution_count": 12,
   "metadata": {},
   "outputs": [],
   "source": [
    "def solution(answers):\n",
    "    sol1 = [1,2,3,4,5]\n",
    "    sol2 = [2,1,2,3,2,4,2,5]\n",
    "    sol3 = [3,3,1,1,2,2,4,4,5,5]\n",
    "    \n",
    "    score = dict()\n",
    "    score[1] = 0\n",
    "    score[2] = 0\n",
    "    score[3] = 0\n",
    "    \n",
    "    for i in range(len(answers)):\n",
    "        if answers[i] == sol1[i % 5]:\n",
    "            score[1] += 1\n",
    "        if answers[i] == sol2[i % 8]:\n",
    "            score[2] += 1\n",
    "        if answers[i] == sol3[i%10]:\n",
    "            score[3] += 1\n",
    "    \n",
    "    score_list = list(score.values())\n",
    "    max_score = max(score_list)\n",
    "    answer = []\n",
    "    \n",
    "    for i in range(len(score_list)):\n",
    "        if score_list[i] == max_score:\n",
    "            answer.append(i+1)\n",
    "    \n",
    "    return answer"
   ]
  },
  {
   "cell_type": "code",
   "execution_count": 14,
   "metadata": {},
   "outputs": [
    {
     "data": {
      "text/plain": [
       "[1, 2, 3]"
      ]
     },
     "execution_count": 14,
     "metadata": {},
     "output_type": "execute_result"
    }
   ],
   "source": [
    "solution([1,3,2,4,2])"
   ]
  },
  {
   "cell_type": "markdown",
   "metadata": {},
   "source": [
    "### 소수 찾기\n",
    "\n",
    "**문제 설명**\n",
    "- 한자리 숫자가 적힌 종이 조각이 흩어져있습니다. 흩어진 종이 조각을 붙여 소수를 몇 개 만들 수 있는지 알아내려 합니다.\n",
    "\n",
    "- 각 종이 조각에 적힌 숫자가 적힌 문자열 numbers가 주어졌을 때, 종이 조각으로 만들 수 있는 소수가 몇 개인지 return 하도록 solution 함수를 완성해주세요.\n",
    "\n",
    "**제한사항**\n",
    "- numbers는 길이 1 이상 7 이하인 문자열입니다.\n",
    "- numbers는 0~9까지 숫자만으로 이루어져 있습니다.\n",
    "- \"013\"은 0, 1, 3 숫자가 적힌 종이 조각이 흩어져있다는 의미입니다.\n",
    "\n",
    "**입출력 예**\n",
    "\n",
    "|numbers|return|\n",
    "|---|---|\n",
    "|\"17\"|3|\n",
    "|\"011\"|2|"
   ]
  },
  {
   "cell_type": "markdown",
   "metadata": {},
   "source": [
    "**아이디어**\n",
    "- 입력 숫자들로 만들 수 있는 모든 수 리스트 생성\n",
    "- 만들 수 있는 가장 큰 숫자까지의 소수 리스트 생성\n",
    "- 소수 개수 확인"
   ]
  },
  {
   "cell_type": "code",
   "execution_count": 41,
   "metadata": {},
   "outputs": [],
   "source": [
    "from itertools import permutations\n",
    "\n",
    "def solution(numbers):\n",
    "    nums = list(numbers)\n",
    "    # 만들 수 있는 모든 수 리스트 생성\n",
    "    all_nums = list()\n",
    "    for i in range(1,len(nums)+1):\n",
    "        all_nums += list(map(''.join, permutations(nums, i)))\n",
    "        \n",
    "    # 중복 제거 및 문자열 숫자로 변경\n",
    "    all_nums = list(set(list(map(int, all_nums))))\n",
    "    \n",
    "    # 만들 수 있는 가장 큰 숫자까지의 소수 리스트 생성 - 에리토스테네스의 체 사용\n",
    "    max_num = max(all_nums)\n",
    "    prime_nums = list()\n",
    "    a = [False, False] + [True] * (max_num-1)\n",
    "    for i in range(2,max_num+1):\n",
    "        if a[i]:\n",
    "            prime_nums.append(i)\n",
    "            for j in range(2*i, max_num+1, i):\n",
    "                a[j] = False\n",
    "                \n",
    "    answer = 0\n",
    "    \n",
    "    for num in all_nums:\n",
    "        if num in prime_nums:\n",
    "            answer += 1\n",
    "    \n",
    "    return answer"
   ]
  },
  {
   "cell_type": "code",
   "execution_count": 42,
   "metadata": {
    "scrolled": true
   },
   "outputs": [
    {
     "data": {
      "text/plain": [
       "2"
      ]
     },
     "execution_count": 42,
     "metadata": {},
     "output_type": "execute_result"
    }
   ],
   "source": [
    "solution(\"011\")"
   ]
  },
  {
   "cell_type": "markdown",
   "metadata": {},
   "source": [
    "### 카펫\n",
    "\n",
    "**문제 설명**\n",
    "- Leo는 카펫을 사러 갔다가 아래 그림과 같이 중앙에는 노란색으로 칠해져 있고 테두리 1줄은 갈색으로 칠해져 있는 격자 모양 카펫을 봤습니다.\n",
    "- Leo는 집으로 돌아와서 아까 본 카펫의 노란색과 갈색으로 색칠된 격자의 개수는 기억했지만, 전체 카펫의 크기는 기억하지 못했습니다.\n",
    "\n",
    "- Leo가 본 카펫에서 갈색 격자의 수 brown, 노란색 격자의 수 yellow가 매개변수로 주어질 때 카펫의 가로, 세로 크기를 순서대로 배열에 담아 return 하도록 solution 함수를 작성해주세요.\n",
    "\n",
    "**제한사항**\n",
    "- 갈색 격자의 수 brown은 8 이상 5,000 이하인 자연수입니다.\n",
    "- 노란색 격자의 수 yellow는 1 이상 2,000,000 이하인 자연수입니다.\n",
    "- **카펫의 가로 길이는 세로 길이와 같거나, 세로 길이보다 깁니다.**\n",
    "\n",
    "**입출력 예**\n",
    "\n",
    "|brown|yellow|return|\n",
    "|---|---|---|\n",
    "|10|2|[4, 3]|\n",
    "|8|1|[3, 3]|\n",
    "|24|24|[8, 6]|\n"
   ]
  },
  {
   "cell_type": "markdown",
   "metadata": {},
   "source": [
    "**아이디어**\n",
    "- m >= n\n",
    "- 노랑 카펫 개수 -> m * n 으로 표현\n",
    "- 갈색 카펫 개수 + 노랑 카펫 개수 -> m+2 * n+2 로 표현"
   ]
  },
  {
   "cell_type": "code",
   "execution_count": 74,
   "metadata": {},
   "outputs": [],
   "source": [
    "def solution(brown, yellow):\n",
    "    norans = list()\n",
    "    for i in range(yellow,0, -1):\n",
    "        if yellow % i == 0:\n",
    "            # m >= n 제한조건 만족\n",
    "            norans.append(sorted([i, yellow//i], reverse = True))\n",
    "           \n",
    "    answer = []\n",
    "    \n",
    "    for i in norans:\n",
    "        if brown+yellow == (i[0] + 2)*(i[1] + 2):\n",
    "            answer = [i[0]+2, i[1]+2]\n",
    "    \n",
    "    return answer"
   ]
  },
  {
   "cell_type": "code",
   "execution_count": 75,
   "metadata": {},
   "outputs": [
    {
     "data": {
      "text/plain": [
       "[3, 3]"
      ]
     },
     "execution_count": 75,
     "metadata": {},
     "output_type": "execute_result"
    }
   ],
   "source": [
    "solution(8,1)"
   ]
  }
 ],
 "metadata": {
  "kernelspec": {
   "display_name": "Python 3",
   "language": "python",
   "name": "python3"
  },
  "language_info": {
   "codemirror_mode": {
    "name": "ipython",
    "version": 3
   },
   "file_extension": ".py",
   "mimetype": "text/x-python",
   "name": "python",
   "nbconvert_exporter": "python",
   "pygments_lexer": "ipython3",
   "version": "3.7.9"
  }
 },
 "nbformat": 4,
 "nbformat_minor": 4
}
