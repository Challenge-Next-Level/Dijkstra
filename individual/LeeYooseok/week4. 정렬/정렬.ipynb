{
 "cells": [
  {
   "cell_type": "markdown",
   "metadata": {},
   "source": [
    "## 대표적인 정렬의 종류\n",
    "\n",
    "### O(n<sup>2</sup>)의 시간 복잡도\n",
    "- 버블 정렬(Bubble Sort)\n",
    "    - 인접한 두 수를 비교하여 정렬\n",
    "- 선택 정렬(Selection Sort)\n",
    "    - 한 바퀴 돌 때, 가장 작은 값을 맨 앞과 교환하는 방식\n",
    "- 삽입 정렬(Insertion Sort)\n",
    "    - 정렬된 데이터 그룹을 늘려가며 추가되는 데이터는 알맞은 자리에 삽입하는 방식\n",
    "\n",
    "### O(n log n)의 시간 복잡도\n",
    "- 병합 정렬(Merge Sort)\n",
    "    - 두 개의 균등한 크기로 분할 후 분할된 부분 리스트를 정렬 → 두개의 정렬된 리스트를 합한다.\n",
    "        - 실제 정렬이 이루어 지는 시점 - 2개의 리스트를 합할 때\n",
    "- 퀵 정렬(Quick Sort)\n",
    "    - pivot 을 선정하여 그 기준으로 정렬\n",
    "        - pivot 은 중간 지점으로 설정"
   ]
  },
  {
   "cell_type": "markdown",
   "metadata": {},
   "source": [
    "## 파이썬 sort()\n",
    "\n",
    "- **병합 정렬**을 기반으로 만들어짐\n",
    "- O(n log n)의 시간 복잡도 보장\n",
    "\n",
    "- 사용 법"
   ]
  },
  {
   "cell_type": "code",
   "execution_count": 1,
   "metadata": {},
   "outputs": [],
   "source": [
    "a = [(1, 2), (0, 1), (5, 1), (5, 2), (3, 0)]"
   ]
  },
  {
   "cell_type": "code",
   "execution_count": 2,
   "metadata": {},
   "outputs": [
    {
     "name": "stdout",
     "output_type": "stream",
     "text": [
      "기본 정렬: [(0, 1), (1, 2), (3, 0), (5, 1), (5, 2)]\n",
      "index 0을 기준으로 정렬 : [(0, 1), (1, 2), (3, 0), (5, 1), (5, 2)]\n",
      "index 1을 기준으로 정렬 : [(3, 0), (0, 1), (5, 1), (1, 2), (5, 2)]\n",
      "index 0,1 기준으로 정렬 :  [(0, 1), (1, 2), (3, 0), (5, 1), (5, 2)]\n"
     ]
    }
   ],
   "source": [
    "b=sorted(a)\n",
    "print(\"기본 정렬:\" ,b)\n",
    "\n",
    "c=sorted(a, key=lambda x:x[0])\n",
    "print(\"index 0을 기준으로 정렬 :\", c)\n",
    "\n",
    "d=sorted(a, key=lambda x:x[1])\n",
    "print(\"index 1을 기준으로 정렬 :\", d)\n",
    "\n",
    "e=sorted(a, key=lambda x:(x[0],x[1]))\n",
    "print(\"index 0,1 기준으로 정렬 : \", e)"
   ]
  }
 ],
 "metadata": {
  "kernelspec": {
   "display_name": "Python 3",
   "language": "python",
   "name": "python3"
  },
  "language_info": {
   "codemirror_mode": {
    "name": "ipython",
    "version": 3
   },
   "file_extension": ".py",
   "mimetype": "text/x-python",
   "name": "python",
   "nbconvert_exporter": "python",
   "pygments_lexer": "ipython3",
   "version": "3.7.9"
  }
 },
 "nbformat": 4,
 "nbformat_minor": 4
}
