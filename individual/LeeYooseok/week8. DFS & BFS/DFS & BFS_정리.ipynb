{
 "cells": [
  {
   "cell_type": "markdown",
   "id": "9b3e5021",
   "metadata": {},
   "source": [
    "## 그래프 자료에서 데이터를 탐색하는 알고리즘\n",
    "\n",
    "### DFS (Depth First Search)\n",
    "- 그래프에서 특정 노드를 찾으려고 할때, 위에서 아래로 찾는 방식\n",
    "- 기본 원칙\n",
    "    - 데이터를 찾을떄 **\"앞으로 찾아 가야할 노드\"** 와 **\"이미 방문한 노드\"** 를 기준으로 데이터를 탐색합니다.\n",
    "    - 특정 노드가 \"앞으로 찾아 가야할 노드\"라면 \n",
    "        - 계속 검색을 하는 것이고, \n",
    "    - \"이미 방문한 노드\"면 \n",
    "        - 무시하거나 따로 저장하면 됩니다. \n",
    "\n"
   ]
  },
  {
   "cell_type": "markdown",
   "id": "531f8085",
   "metadata": {},
   "source": [
    "### DFS 구현 방법\n",
    "- ### 스택/큐를 활용한 구현 방법\n",
    "    - 리스트 활용 - pop 이용으로 인한 성능 하락"
   ]
  },
  {
   "cell_type": "code",
   "execution_count": 1,
   "id": "a28e6bf3",
   "metadata": {},
   "outputs": [],
   "source": [
    "def dfs(graph, start_node):\n",
    " \n",
    "    ## 기본은 항상 두개의 리스트를 별도로 관리해주는 것\n",
    "    need_visited, visited = list(), list()\n",
    " \n",
    "    ## 시작 노드를 시정하기 \n",
    "    need_visited.append(start_node)\n",
    "    \n",
    "    ## 만약 아직도 방문이 필요한 노드가 있다면,\n",
    "    while need_visited:\n",
    " \n",
    "        ## 그 중에서 가장 마지막 데이터를 추출 (스택 구조의 활용)\n",
    "        node = need_visited.pop()\n",
    "        \n",
    "        ## 만약 그 노드가 방문한 목록에 없다면\n",
    "        if node not in visited:\n",
    " \n",
    "            ## 방문한 목록에 추가하기 \n",
    "            visited.append(node)\n",
    " \n",
    "            ## 그 노드에 연결된 노드를 \n",
    "            need_visited.extend(graph[node])\n",
    "            \n",
    "    return visited"
   ]
  },
  {
   "cell_type": "markdown",
   "id": "90e9f118",
   "metadata": {},
   "source": [
    "    - deque 활용"
   ]
  },
  {
   "cell_type": "code",
   "execution_count": 2,
   "id": "72a0a3b3",
   "metadata": {},
   "outputs": [],
   "source": [
    "def dfs2(graph, start_node):\n",
    "    ## deque 패키지 불러오기\n",
    "    from collections import deque\n",
    "    visited = []\n",
    "    need_visited = deque()\n",
    "    \n",
    "    ##시작 노드 설정해주기\n",
    "    need_visited.append(start_node)\n",
    "    \n",
    "    ## 방문이 필요한 리스트가 아직 존재한다면\n",
    "    while need_visited:\n",
    "        ## 시작 노드를 지정하고\n",
    "        node = need_visited.popleft()\n",
    " \n",
    "        ##만약 방문한 리스트에 없다면\n",
    "        if node not in visited:\n",
    " \n",
    "            ## 방문 리스트에 노드를 추가\n",
    "            visited.append(node)\n",
    "            ## 인접 노드들을 방문 예정 리스트에 추가\n",
    "            need_visited.extend(graph[node])\n",
    "                \n",
    "    return visited"
   ]
  },
  {
   "cell_type": "markdown",
   "id": "3c8a51ee",
   "metadata": {},
   "source": [
    "- ### 재귀 함수를 통한 DFS 구현"
   ]
  },
  {
   "cell_type": "code",
   "execution_count": 3,
   "id": "0d5ddca2",
   "metadata": {},
   "outputs": [],
   "source": [
    "def dfs_recursive(graph, start, visited = []):\n",
    "## 데이터를 추가하는 명령어 / 재귀가 이루어짐 \n",
    "    visited.append(start)\n",
    " \n",
    "    for node in graph[start]:\n",
    "        if node not in visited:\n",
    "            dfs_recursive(graph, node, visited)\n",
    "    return visited"
   ]
  },
  {
   "cell_type": "markdown",
   "id": "8661d817",
   "metadata": {},
   "source": [
    "### BFS (Breadth First Search)\n",
    "- 그래프에서 특정 노드를 찾으려고 할때, 수평방향으로 찾는 방식\n",
    "- 기본 원칙\n",
    "    - 1단계. 시작 노드를 방문했던 노드에 삽입한다. \n",
    "\n",
    "    - 2단계. 방문할 노드에 시작노드의 Child Node를 삽입한다. \n",
    "    \n",
    "    - 3단계. Child노드를 중심으로 다시 1~2단계를 거쳐 탐색한다. \n",
    "    \n",
    "### 구현\n",
    "- **DFS 와의 차이점 : While문 다음에 어떤 자료를 우선적으로 추출**\n",
    "    - DFS 같은 경우 리스트의 가장 끝에 있는 데이터를 기준으로 추출하지만, \n",
    "    - BFS는 리스트의 가장 처음에 있는 인자를 받습니다. "
   ]
  },
  {
   "cell_type": "code",
   "execution_count": 1,
   "id": "7f4894d0",
   "metadata": {},
   "outputs": [],
   "source": [
    "def bfs(graph, start_node):\n",
    "    need_visited, visited = [], []\n",
    "    need_visited.append(start_node)\n",
    "    \n",
    "    \n",
    "    while need_visited:\n",
    "        node = need_visited[0]\n",
    "        del need_visited[0]\n",
    "        \n",
    "        if node not in visited:\n",
    "            visited.append(node)\n",
    "            need_visited.extend(graph[node])\n",
    "    return visited"
   ]
  }
 ],
 "metadata": {
  "kernelspec": {
   "display_name": "Python 3 (ipykernel)",
   "language": "python",
   "name": "python3"
  },
  "language_info": {
   "codemirror_mode": {
    "name": "ipython",
    "version": 3
   },
   "file_extension": ".py",
   "mimetype": "text/x-python",
   "name": "python",
   "nbconvert_exporter": "python",
   "pygments_lexer": "ipython3",
   "version": "3.9.7"
  }
 },
 "nbformat": 4,
 "nbformat_minor": 5
}
