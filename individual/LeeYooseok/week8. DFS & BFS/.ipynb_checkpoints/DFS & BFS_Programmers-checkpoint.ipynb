{
 "cells": [
  {
   "cell_type": "markdown",
   "id": "4db7214d",
   "metadata": {},
   "source": [
    "### 타겟 넘버\n",
    "**문제 설명**\n",
    "- n개의 음이 아닌 정수가 있습니다. 이 수를 적절히 더하거나 빼서 타겟 넘버를 만들려고 합니다. 예를 들어 [1, 1, 1, 1, 1]로 숫자 3을 만들려면 다음 다섯 방법을 쓸 수 있습니다.\n",
    "\n",
    "-1+1+1+1+1 = 3\n",
    "\n",
    "+1-1+1+1+1 = 3\n",
    "\n",
    "+1+1-1+1+1 = 3\n",
    "\n",
    "+1+1+1-1+1 = 3\n",
    "\n",
    "+1+1+1+1-1 = 3\n",
    "\n",
    "- 사용할 수 있는 숫자가 담긴 배열 numbers, 타겟 넘버 target이 매개변수로 주어질 때 숫자를 적절히 더하고 빼서 타겟 넘버를 만드는 방법의 수를 return 하도록 solution 함수를 작성해주세요.\n",
    "\n",
    "**제한사항**\n",
    "- 주어지는 숫자의 개수는 2개 이상 20개 이하입니다.\n",
    "- 각 숫자는 1 이상 50 이하인 자연수입니다.\n",
    "- 타겟 넘버는 1 이상 1000 이하인 자연수입니다.\n",
    "\n",
    "**입출력 예**\n",
    "\n",
    "|numbers|target|return|\n",
    "|---|---|---|\n",
    "|[1, 1, 1, 1, 1]|3|5|\n"
   ]
  },
  {
   "cell_type": "markdown",
   "id": "fce91a5f",
   "metadata": {},
   "source": [
    "**아이디어**\n",
    "- 그래프 그린다고 생각\n",
    "- 각 노드는 상위 노드에 + or - 하는 경우로 생각\n",
    "\n",
    "[]\n",
    "\n",
    "[1, -1]\n",
    "\n",
    "[2,0,0,-1]\n",
    "\n",
    "[3,2,1,-1,1,-1,0,-2]"
   ]
  },
  {
   "cell_type": "code",
   "execution_count": 5,
   "id": "dc4720d9",
   "metadata": {},
   "outputs": [],
   "source": [
    "def solution(numbers, target):\n",
    "    old = [numbers[0], -1 * numbers[0]]\n",
    "    \n",
    "    for n in numbers[1:]:\n",
    "        new = list()\n",
    "        for o in old:\n",
    "            new.append(o+n)\n",
    "            new.append(o-n)\n",
    "        old = new\n",
    "    return old.count(target)"
   ]
  },
  {
   "cell_type": "code",
   "execution_count": 4,
   "id": "9422c1ea",
   "metadata": {},
   "outputs": [
    {
     "data": {
      "text/plain": [
       "5"
      ]
     },
     "execution_count": 4,
     "metadata": {},
     "output_type": "execute_result"
    }
   ],
   "source": [
    "solution([1,1,1,1,1], 3)"
   ]
  },
  {
   "cell_type": "markdown",
   "id": "1492ba92",
   "metadata": {},
   "source": [
    "### 네트워크\n",
    "\n",
    "**문제 설명**\n",
    "- 네트워크란 컴퓨터 상호 간에 정보를 교환할 수 있도록 연결된 형태를 의미합니다. 예를 들어, 컴퓨터 A와 컴퓨터 B가 직접적으로 연결되어있고, 컴퓨터 B와 컴퓨터 C가 직접적으로 연결되어 있을 때 컴퓨터 A와 컴퓨터 C도 간접적으로 연결되어 정보를 교환할 수 있습니다. 따라서 컴퓨터 A, B, C는 모두 같은 네트워크 상에 있다고 할 수 있습니다.\n",
    "\n",
    "- 컴퓨터의 개수 n, 연결에 대한 정보가 담긴 2차원 배열 computers가 매개변수로 주어질 때, 네트워크의 개수를 return 하도록 solution 함수를 작성하시오.\n",
    "\n",
    "**제한사항**\n",
    "- 컴퓨터의 개수 n은 1 이상 200 이하인 자연수입니다.\n",
    "- 각 컴퓨터는 0부터 n-1인 정수로 표현합니다.\n",
    "- i번 컴퓨터와 j번 컴퓨터가 연결되어 있으면 computers[i][j]를 1로 표현합니다.\n",
    "- computer[i][i]는 항상 1입니다.\n",
    "\n",
    "**입출력 예**\n",
    "\n",
    "|n|computers|return|\n",
    "|---|---|---|\n",
    "|3|[[1, 1, 0], [1, 1, 0], [0, 0, 1]]|2|\n",
    "|3|[[1, 1, 0], [1, 1, 1], [0, 1, 1]]|1|"
   ]
  },
  {
   "cell_type": "markdown",
   "id": "5e928520",
   "metadata": {},
   "source": [
    "**아이디어**\n",
    "- "
   ]
  }
 ],
 "metadata": {
  "kernelspec": {
   "display_name": "Python 3 (ipykernel)",
   "language": "python",
   "name": "python3"
  },
  "language_info": {
   "codemirror_mode": {
    "name": "ipython",
    "version": 3
   },
   "file_extension": ".py",
   "mimetype": "text/x-python",
   "name": "python",
   "nbconvert_exporter": "python",
   "pygments_lexer": "ipython3",
   "version": "3.9.7"
  }
 },
 "nbformat": 4,
 "nbformat_minor": 5
}
