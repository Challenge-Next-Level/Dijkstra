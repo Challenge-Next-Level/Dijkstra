{
 "cells": [
  {
   "cell_type": "markdown",
   "id": "4fdf9bd5",
   "metadata": {},
   "source": [
    "### 1388, 바닥장식\n",
    "\n",
    "**문제**\n",
    "- 형택이는 건축가이다. 지금 막 형택이는 형택이의 남자 친구 기훈이의 집을 막 완성시켰다. 형택이는 기훈이 방의 바닥 장식을 디자인했고, 이제 몇 개의 나무 판자가 필요한지 궁금해졌다. 나무 판자는 크기 1의 너비를 가졌고, 양수의 길이를 가지고 있다. 기훈이 방은 직사각형 모양이고, 방 안에는 벽과 평행한 모양의 정사각형으로 나누어져 있다.\n",
    "\n",
    "- 이제 ‘-’와 ‘|’로 이루어진 바닥 장식 모양이 주어진다. 만약 두 개의 ‘-’가 인접해 있고, 같은 행에 있다면, 두 개는 같은 나무 판자이고, 두 개의 ‘|’가 인접해 있고, 같은 열에 있다면, 두 개는 같은 나무 판자이다.\n",
    "\n",
    "- 기훈이의 방 바닥을 장식하는데 필요한 나무 판자의 개수를 출력하는 프로그램을 작성하시오.\n",
    "\n",
    "**입력**\n",
    "- 첫째 줄에 방 바닥의 세로 크기N과 가로 크기 M이 주어진다. 둘째 줄부터 N개의 줄에 M개의 문자가 주어진다. 이것은 바닥 장식 모양이고, '-‘와 ’|‘로만 이루어져 있다. N과 M은 50 이하인 자연수이다.\n",
    "\n",
    "**출력**\n",
    "- 첫째 줄에 문제의 정답을 출력한다."
   ]
  },
  {
   "cell_type": "markdown",
   "id": "f38909c1",
   "metadata": {},
   "source": [
    "**아이디어**\n",
    "- 두개씩 확인\n",
    "- \"-\" 확인 - 너비 우선 검색\n",
    "- \"|\" 확인 - 깊이 우선 검색"
   ]
  },
  {
   "cell_type": "code",
   "execution_count": 1,
   "id": "c1091a03",
   "metadata": {},
   "outputs": [
    {
     "ename": "IndentationError",
     "evalue": "expected an indented block (1510370850.py, line 14)",
     "output_type": "error",
     "traceback": [
      "\u001b[0;36m  File \u001b[0;32m\"/var/folders/tj/2htd1c9167lfvb350gqy87640000gn/T/ipykernel_10753/1510370850.py\"\u001b[0;36m, line \u001b[0;32m14\u001b[0m\n\u001b[0;31m    \u001b[0m\n\u001b[0m    ^\u001b[0m\n\u001b[0;31mIndentationError\u001b[0m\u001b[0;31m:\u001b[0m expected an indented block\n"
     ]
    }
   ],
   "source": [
    "N, M = map(int, input().split()) # N : 행 개수, M : 열 개수\n",
    "\n",
    "board = list()\n",
    "\n",
    "for _ in range(N):\n",
    "    board.append(list(input()))\n",
    "    \n",
    "result = 0\n",
    "\n",
    "# - 확인\n",
    "for i in range(N):\n",
    "    for j in range(M):\n",
    "        if board[i][j] == \"-\":\n",
    "            "
   ]
  }
 ],
 "metadata": {
  "kernelspec": {
   "display_name": "Python 3 (ipykernel)",
   "language": "python",
   "name": "python3"
  },
  "language_info": {
   "codemirror_mode": {
    "name": "ipython",
    "version": 3
   },
   "file_extension": ".py",
   "mimetype": "text/x-python",
   "name": "python",
   "nbconvert_exporter": "python",
   "pygments_lexer": "ipython3",
   "version": "3.9.7"
  }
 },
 "nbformat": 4,
 "nbformat_minor": 5
}
