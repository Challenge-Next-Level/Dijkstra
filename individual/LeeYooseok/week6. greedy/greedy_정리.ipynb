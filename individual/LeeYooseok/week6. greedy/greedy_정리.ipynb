{
 "cells": [
  {
   "cell_type": "markdown",
   "metadata": {},
   "source": [
    "## Greedy 알고리즘\n",
    "- ### 그리디 알고리즘(욕심쟁이 알고리즘, Greedy Algorithm)이란 \"매 선택에서 지금 이 순간 당장 최적인 답을 선택하여 적합한 결과를 도출하자\" 라는 모토를 가지는 알고리즘 설계 기법이다.\n",
    "\n",
    "- ### 흐름\n",
    "    - 문제의 답을 도출하는 가장 적절한 알고리즘을 생각한다.\n",
    "    - 해당 알고리즘이 가장 적절할 수 밖에 없는 이유를 생각한다.\n",
    "    - 소스 코드를 작성한다."
   ]
  }
 ],
 "metadata": {
  "kernelspec": {
   "display_name": "Python 3",
   "language": "python",
   "name": "python3"
  },
  "language_info": {
   "codemirror_mode": {
    "name": "ipython",
    "version": 3
   },
   "file_extension": ".py",
   "mimetype": "text/x-python",
   "name": "python",
   "nbconvert_exporter": "python",
   "pygments_lexer": "ipython3",
   "version": "3.7.9"
  }
 },
 "nbformat": 4,
 "nbformat_minor": 4
}
