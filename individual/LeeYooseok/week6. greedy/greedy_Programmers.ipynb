{
 "cells": [
  {
   "cell_type": "markdown",
   "metadata": {},
   "source": [
    "### 조이스틱\n",
    "\n",
    "**문제 설명**\n",
    "- 조이스틱으로 알파벳 이름을 완성하세요. 맨 처음엔 A로만 이루어져 있습니다.\n",
    "- ex) 완성해야 하는 이름이 세 글자면 AAA, 네 글자면 AAAA\n",
    "\n",
    "\n",
    "- 조이스틱을 각 방향으로 움직이면 아래와 같습니다.\n",
    "    - ▲ - 다음 알파벳\n",
    "    - ▼ - 이전 알파벳 (A에서 아래쪽으로 이동하면 Z로)\n",
    "    - ◀ - 커서를 왼쪽으로 이동 (첫 번째 위치에서 왼쪽으로 이동하면 마지막 문자에 커서)\n",
    "    - ▶ - 커서를 오른쪽으로 이동\n",
    "\n",
    "\n",
    "- 예를 들어 아래의 방법으로 \"JAZ\"를 만들 수 있습니다.\n",
    "    - 첫 번째 위치에서 조이스틱을 위로 9번 조작하여 J를 완성합니다.\n",
    "    - 조이스틱을 왼쪽으로 1번 조작하여 커서를 마지막 문자 위치로 이동시킵니다.\n",
    "    - 마지막 위치에서 조이스틱을 아래로 1번 조작하여 Z를 완성합니다.\n",
    "\n",
    "\n",
    "- 따라서 11번 이동시켜 \"JAZ\"를 만들 수 있고, 이때가 최소 이동입니다.\n",
    "- 만들고자 하는 이름 name이 매개변수로 주어질 때, 이름에 대해 조이스틱 조작 횟수의 최솟값을 return 하도록 solution 함수를 만드세요.\n",
    "\n",
    "\n",
    "**제한 사항**\n",
    "- name은 알파벳 대문자로만 이루어져 있습니다.\n",
    "- name의 길이는 1 이상 20 이하입니다.\n",
    "\n",
    "**입출력 예**\n",
    "\n",
    "|name|return|\n",
    "|---|---|\n",
    "|\"JEROEN\"|56|\n",
    "|\"JAN\"|23|"
   ]
  },
  {
   "cell_type": "markdown",
   "metadata": {},
   "source": [
    "**아이디어**\n",
    "- 딕셔너리\n",
    "    - A : 0\n",
    "    - B : 1\n",
    "    - ...\n",
    "    - N : 12\n",
    "    - M : 13\n",
    "    - ...\n",
    "    - Z : 1\n",
    "- A 있는지 확인\n",
    "    - 있을 시\n",
    "        - A 가 처음부터 몇개가 이어져 있는지\n",
    "        - A 가 뒤에서부터 몇개가 이어져 있는지\n",
    "        - 더 큰 수를 길이에서 빼기\n",
    "    - 없을 시\n",
    "        - 전체 길이-1 더하기"
   ]
  },
  {
   "cell_type": "code",
   "execution_count": 31,
   "metadata": {},
   "outputs": [],
   "source": [
    "def solution(name):\n",
    "    alpha = {\n",
    "        \"A\" : 0,\n",
    "        \"B\" : 1,\n",
    "        \"C\" : 2,\n",
    "        \"D\" : 3,\n",
    "        \"E\" : 4,\n",
    "        \"F\" : 5,\n",
    "        \"G\" : 6,\n",
    "        \"H\" : 7,\n",
    "        \"I\" : 8,\n",
    "        \"J\" : 9,\n",
    "        \"K\" : 10,\n",
    "        \"L\" : 11,\n",
    "        \"M\" : 12,\n",
    "        \"N\" : 13,\n",
    "        \"O\" : 12,\n",
    "        \"P\" : 11,\n",
    "        \"Q\" : 10,\n",
    "        \"R\" : 9,\n",
    "        \"S\" : 8,\n",
    "        \"T\" : 7,\n",
    "        \"U\" : 6,\n",
    "        \"V\" : 5,\n",
    "        \"W\" : 4,\n",
    "        \"X\" : 3,\n",
    "        \"Y\" : 2,\n",
    "        \"Z\" : 1\n",
    "    }\n",
    "    answer = 0\n",
    "    \n",
    "    if \"A\" == name[1] or \"A\" == name[-1]:\n",
    "        head = 0 # 뒤로 돌아갈 시 안 움직여도 될 횟수\n",
    "        tail = 0 # 앞으로 갈 시 안 움직여도 될 횟수\n",
    "        for i in range(1, 21):\n",
    "            if \"A\" * i == name[1:i+1] :\n",
    "                head = i \n",
    "            if \"A\" * i == name[-1 -1*i:]:\n",
    "                tail = i\n",
    "            if \"A\" * i != name[1:i+1] and \"A\"*i != name[-1 -1*i]:\n",
    "                break\n",
    "        answer += len(name)-max(head+1, tail+1)\n",
    "    else :\n",
    "        answer += len(name)-1\n",
    "        \n",
    "    for n in name:\n",
    "        answer += alpha[n]\n",
    "    return answer"
   ]
  },
  {
   "cell_type": "code",
   "execution_count": 24,
   "metadata": {},
   "outputs": [
    {
     "data": {
      "text/plain": [
       "56"
      ]
     },
     "execution_count": 24,
     "metadata": {},
     "output_type": "execute_result"
    }
   ],
   "source": [
    "solution(\"JEROEN\")"
   ]
  },
  {
   "cell_type": "code",
   "execution_count": 32,
   "metadata": {},
   "outputs": [
    {
     "data": {
      "text/plain": [
       "10"
      ]
     },
     "execution_count": 32,
     "metadata": {},
     "output_type": "execute_result"
    }
   ],
   "source": [
    "solution(\"AAAAABAAABAAA\")"
   ]
  },
  {
   "cell_type": "code",
   "execution_count": 34,
   "metadata": {},
   "outputs": [
    {
     "data": {
      "text/plain": [
       "10"
      ]
     },
     "execution_count": 34,
     "metadata": {},
     "output_type": "execute_result"
    }
   ],
   "source": [
    "solution(\"BBBAAAB\")"
   ]
  },
  {
   "cell_type": "markdown",
   "metadata": {},
   "source": [
    "### 구명보트\n",
    "\n",
    "**문제 설명**\n",
    "- 무인도에 갇힌 사람들을 구명보트를 이용하여 구출하려고 합니다. 구명보트는 작아서 **한 번에 최대 2명씩 밖에 탈 수 없고, 무게 제한**도 있습니다.\n",
    "\n",
    "- 예를 들어, 사람들의 몸무게가 [70kg, 50kg, 80kg, 50kg]이고 구명보트의 무게 제한이 100kg이라면 2번째 사람과 4번째 사람은 같이 탈 수 있지만 1번째 사람과 3번째 사람의 무게의 합은 150kg이므로 구명보트의 무게 제한을 초과하여 같이 탈 수 없습니다.\n",
    "\n",
    "- 구명보트를 최대한 적게 사용하여 모든 사람을 구출하려고 합니다.\n",
    "\n",
    "- 사람들의 몸무게를 담은 배열 people과 구명보트의 무게 제한 limit가 매개변수로 주어질 때, 모든 사람을 구출하기 위해 필요한 구명보트 개수의 최솟값을 return 하도록 solution 함수를 작성해주세요.\n",
    "\n",
    "**제한사항**\n",
    "- 무인도에 갇힌 사람은 1명 이상 50,000명 이하입니다.\n",
    "- 각 사람의 몸무게는 40kg 이상 240kg 이하입니다.\n",
    "- 구명보트의 무게 제한은 40kg 이상 240kg 이하입니다.\n",
    "- 구명보트의 무게 제한은 항상 사람들의 몸무게 중 최댓값보다 크게 주어지므로 사람들을 구출할 수 없는 경우는 없습니다.\n",
    "\n",
    "**입출력 예**\n",
    "\n",
    "|people|limit|return|\n",
    "|---|---|---|\n",
    "|[70, 50, 80, 50]|100|3|\n",
    "|[70, 80, 50]|100|3|"
   ]
  },
  {
   "cell_type": "markdown",
   "metadata": {},
   "source": [
    "**아이디어**\n",
    "- 오름차순 정렬\n",
    "    - 가장 큰 사람 과 가장 작은사람 값을 더해 limit 값과 비교\n",
    "        - 넘을 시\n",
    "            - 큰사람만 태움\n",
    "        - 작을 시\n",
    "            - 둘다 태움"
   ]
  },
  {
   "cell_type": "code",
   "execution_count": 1,
   "metadata": {},
   "outputs": [],
   "source": [
    "\n",
    "from collections import deque\n",
    "\n",
    "def solution(people, limit):\n",
    "    boat = 0\n",
    "    people.sort()\n",
    "\n",
    "    # 보트는 2명씩만 탈 수 있고 무게 제한도 있음.\n",
    "    q = deque(people)\n",
    "    cnt = 0\n",
    "    while q:\n",
    "        if len(q) >= 2:\n",
    "            if q[0] + q[-1] <= limit: # 제일 많이 나가는 사람 + 제일 적은 사람 <= limit\n",
    "                q.pop()\n",
    "                q.popleft() # 두명 다 태움\n",
    "                boat += 1\n",
    "            elif q[0] + q[-1] > limit:\n",
    "                q.pop() # 1명만 태움\n",
    "                boat += 1\n",
    "        else:\n",
    "            if q[0] <= limit:\n",
    "                q.pop()\n",
    "                boat += 1\n",
    "    return boat"
   ]
  },
  {
   "cell_type": "code",
   "execution_count": 2,
   "metadata": {},
   "outputs": [
    {
     "data": {
      "text/plain": [
       "3"
      ]
     },
     "execution_count": 2,
     "metadata": {},
     "output_type": "execute_result"
    }
   ],
   "source": [
    "solution([70,50,80,50], 100)"
   ]
  },
  {
   "cell_type": "markdown",
   "metadata": {},
   "source": [
    "### 단속 카메라\n",
    "\n",
    "**문제 설명**\n",
    "- 고속도로를 이동하는 모든 차량이 고속도로를 이용하면서 단속용 카메라를 한 번은 만나도록 카메라를 설치하려고 합니다.\n",
    "\n",
    "- 고속도로를 이동하는 차량의 경로 routes가 매개변수로 주어질 때, 모든 차량이 한 번은 단속용 카메라를 만나도록 하려면 최소 몇 대의 카메라를 설치해야 하는지를 return 하도록 solution 함수를 완성하세요.\n",
    "\n",
    "**제한사항**\n",
    "\n",
    "- 차량의 대수는 1대 이상 10,000대 이하입니다.\n",
    "- routes에는 차량의 이동 경로가 포함되어 있으며 routes[i][0]에는 i번째 차량이 고속도로에 진입한 지점, routes[i][1]에는 i번째 차량이 고속도로에서 나간 지점이 적혀 있습니다.\n",
    "- 차량의 진입/진출 지점에 카메라가 설치되어 있어도 카메라를 만난것으로 간주합니다.\n",
    "- 차량의 진입 지점, 진출 지점은 -30,000 이상 30,000 이하입니다.\n",
    "\n",
    "**입출력 예**\n",
    "\n",
    "|routes|return|\n",
    "|---|---|\n",
    "|[[-20,-15], [-14,-5], [-18,-13], [-5,-3]]|2|"
   ]
  },
  {
   "cell_type": "markdown",
   "metadata": {},
   "source": [
    "**아이디어**\n",
    "- 진입 / 진출 지점 뽑아낸다.\n",
    "    - 리스트 화 및 정렬\n",
    "- while 반복문\n",
    "    - 카메라 개수 1씩 증가\n",
    "    - 지점 리스트 중 해당 개수만큼 카메라 설치한다고 가정 시\n",
    "        - 모든 차량을 확인할 수 있는지 확인"
   ]
  },
  {
   "cell_type": "code",
   "execution_count": 7,
   "metadata": {},
   "outputs": [],
   "source": [
    "import itertools\n",
    "import copy\n",
    "\n",
    "def solution(routes):\n",
    "    points = set()\n",
    "    for r in routes:\n",
    "        points.add(r[0])\n",
    "        points.add(r[1])\n",
    "    points = list(points)\n",
    "    \n",
    "    answer = 0\n",
    "    chk = True\n",
    "    \n",
    "    for _ in range(len(points)):\n",
    "        if not chk :\n",
    "            break\n",
    "        answer += 1\n",
    "        for camera in list(itertools.combinations(points, answer)):\n",
    "            test = copy.deepcopy(routes)\n",
    "            for c in camera:\n",
    "                delete = list()\n",
    "                for t in test:\n",
    "                    if t[0] <= c <= t[1]:\n",
    "                        delete.append(t)\n",
    "                if len(delete) != 0:\n",
    "                    for d in delete:\n",
    "                        test.remove(d)\n",
    "            if len(test) == 0:\n",
    "                chk = False\n",
    "                break\n",
    "                   \n",
    "    return answer"
   ]
  },
  {
   "cell_type": "code",
   "execution_count": 8,
   "metadata": {
    "scrolled": false
   },
   "outputs": [
    {
     "data": {
      "text/plain": [
       "2"
      ]
     },
     "execution_count": 8,
     "metadata": {},
     "output_type": "execute_result"
    }
   ],
   "source": [
    "solution([[-20,-15], [-14,-5], [-18,-13], [-5,-3]])"
   ]
  },
  {
   "cell_type": "markdown",
   "metadata": {},
   "source": [
    "**아이디어**\n",
    "- 지출 지점 기준으로 정렬 후 카메라에 걸리는 지 확인하는 방법\n",
    "    - 진출 지점에 카메라를 설치하는 이유는 다음 구간의 차량의 진입 시점과 비교하면 설치한 카메라에 걸리는 지 O(N)으로 확인이 가능하다"
   ]
  },
  {
   "cell_type": "code",
   "execution_count": 9,
   "metadata": {},
   "outputs": [],
   "source": [
    "def solution(routes):\n",
    "    answer = 0\n",
    "    routes.sort(key=lambda x: x[1]) # routes를 차량이 나간 지점 (진출) 기준으로 정렬\n",
    "    camera = -30001 # -30001부터 카메라 위치를 찾습니다.\n",
    "\n",
    "    for route in routes:\n",
    "        if camera < route[0]:\n",
    "            answer += 1\n",
    "            camera = route[1]\n",
    "    return answer"
   ]
  },
  {
   "cell_type": "code",
   "execution_count": 10,
   "metadata": {},
   "outputs": [
    {
     "data": {
      "text/plain": [
       "2"
      ]
     },
     "execution_count": 10,
     "metadata": {},
     "output_type": "execute_result"
    }
   ],
   "source": [
    "solution([[-20,-15], [-14,-5], [-18,-13], [-5,-3]])"
   ]
  }
 ],
 "metadata": {
  "kernelspec": {
   "display_name": "Python 3",
   "language": "python",
   "name": "python3"
  },
  "language_info": {
   "codemirror_mode": {
    "name": "ipython",
    "version": 3
   },
   "file_extension": ".py",
   "mimetype": "text/x-python",
   "name": "python",
   "nbconvert_exporter": "python",
   "pygments_lexer": "ipython3",
   "version": "3.7.9"
  }
 },
 "nbformat": 4,
 "nbformat_minor": 4
}
