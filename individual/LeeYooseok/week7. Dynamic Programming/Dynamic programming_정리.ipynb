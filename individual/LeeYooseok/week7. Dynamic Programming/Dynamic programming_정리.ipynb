{
 "cells": [
  {
   "cell_type": "markdown",
   "id": "1cff49d0",
   "metadata": {},
   "source": [
    "## Dynamic Programming\n",
    "\n",
    "### - 큰 문제를 작은 문제로 나눌 수 있다.\n",
    "### - 작은 문제에서 구한 정답은 그것을 포함하는 큰 문제에서도 동일하다.\n",
    "\n",
    "- ### 방식\n",
    "    - Top Down 방식\n",
    "        - 재귀함수를 이용하여 순환하는 방식\n",
    "        \n",
    "    - Bottom Up 방식\n",
    "        - 작은 문제로부터 큰 문제의 답 도출\n",
    "        \n",
    "    - 공통점\n",
    "        - 다음 상태를 구하기 위해, 이전 상태를 저장하고 재 사용합니다.\n",
    "- ### 적용 방식\n",
    "    - 상태 정의 : DP배열의 index가 의미하는 것과 문제의 초기상태 정의\n",
    "    - 점화식 구하기 : 다음 상태를 나타내기 위한 표현식\n",
    "    - 시간 복잡도 계산"
   ]
  }
 ],
 "metadata": {
  "kernelspec": {
   "display_name": "Python 3 (ipykernel)",
   "language": "python",
   "name": "python3"
  },
  "language_info": {
   "codemirror_mode": {
    "name": "ipython",
    "version": 3
   },
   "file_extension": ".py",
   "mimetype": "text/x-python",
   "name": "python",
   "nbconvert_exporter": "python",
   "pygments_lexer": "ipython3",
   "version": "3.9.7"
  }
 },
 "nbformat": 4,
 "nbformat_minor": 5
}
